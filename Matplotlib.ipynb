{
 "cells": [
  {
   "cell_type": "markdown",
   "id": "6d3413bd",
   "metadata": {},
   "source": [
    "# Тема “Визуализация данных в Matplotlib”"
   ]
  },
  {
   "cell_type": "markdown",
   "id": "a06251f4",
   "metadata": {},
   "source": [
    "#### Задание 1\n",
    "Загрузите модуль pyplot библиотеки matplotlib с псевдонимом plt, а также библиотеку numpy с псевдонимом np.\n",
    "Примените магическую функцию %matplotlib inline для отображения графиков в Jupyter Notebook и настройки конфигурации ноутбука со значением 'svg' для более четкого отображения графиков.\n",
    "Создайте список под названием x с числами 1, 2, 3, 4, 5, 6, 7 и список y с числами 3.5, 3.8, 4.2, 4.5, 5, 5.5, 7.\n",
    "С помощью функции plot постройте график, соединяющий линиями точки с горизонтальными координатами из списка x и вертикальными - из списка y.\n",
    "Затем в следующей ячейке постройте диаграмму рассеяния (другие названия - диаграмма разброса, scatter plot).\n"
   ]
  },
  {
   "cell_type": "code",
   "execution_count": 1,
   "id": "e03052da",
   "metadata": {},
   "outputs": [],
   "source": [
    "import numpy as np\n",
    "import pandas as pd\n",
    "from matplotlib import pyplot as plt\n",
    "%matplotlib inline"
   ]
  },
  {
   "cell_type": "code",
   "execution_count": 2,
   "id": "f8776d01",
   "metadata": {},
   "outputs": [
    {
     "data": {
      "text/plain": [
       "[1, 2, 3, 4, 5, 6, 7]"
      ]
     },
     "execution_count": 2,
     "metadata": {},
     "output_type": "execute_result"
    }
   ],
   "source": [
    "x = [1, 2, 3, 4, 5, 6, 7]\n",
    "x"
   ]
  },
  {
   "cell_type": "code",
   "execution_count": 3,
   "id": "420f1215",
   "metadata": {},
   "outputs": [
    {
     "data": {
      "text/plain": [
       "[3.5, 3.8, 4.2, 4.5, 5, 5.5, 7]"
      ]
     },
     "execution_count": 3,
     "metadata": {},
     "output_type": "execute_result"
    }
   ],
   "source": [
    "y = [3.5, 3.8, 4.2, 4.5, 5, 5.5, 7]\n",
    "y"
   ]
  },
  {
   "cell_type": "code",
   "execution_count": 4,
   "id": "444d0216",
   "metadata": {},
   "outputs": [
    {
     "data": {
      "image/png": "[encoded data removed]",
      "text/plain": [
       "<Figure size 432x288 with 1 Axes>"
      ]
     },
     "metadata": {
      "needs_background": "light"
     },
     "output_type": "display_data"
    }
   ],
   "source": [
    "plt.plot(x, y)\n",
    "\n",
    "plt.show()"
   ]
  },
  {
   "cell_type": "code",
   "execution_count": 5,
   "id": "ef5d5faf",
   "metadata": {},
   "outputs": [
    {
     "data": {
      "image/png": "[encoded data removed]",
      "text/plain": [
       "<Figure size 432x288 with 1 Axes>"
      ]
     },
     "metadata": {
      "needs_background": "light"
     },
     "output_type": "display_data"
    }
   ],
   "source": [
    "plt.scatter(x, y)\n",
    "\n",
    "plt.show()"
   ]
  },
  {
   "cell_type": "markdown",
   "id": "7baa8034",
   "metadata": {},
   "source": [
    "#### Задание 2\n",
    "С помощью функции linspace из библиотеки Numpy создайте массив t из 51 числа от 0 до 10 включительно.\n",
    "Создайте массив Numpy под названием f, содержащий косинусы элементов массива t.\n",
    "Постройте линейную диаграмму, используя массив t для координат по горизонтали,а массив f - для координат по вертикали. Линия графика должна быть зеленого цвета.\n",
    "Выведите название диаграммы - 'График f(t)'. Также добавьте названия для горизонтальной оси - 'Значения t' и для вертикальной - 'Значения f'.\n",
    "Ограничьте график по оси x значениями 0.5 и 9.5, а по оси y - значениями -2.5 и 2.5.\n"
   ]
  },
  {
   "cell_type": "code",
   "execution_count": 6,
   "id": "0e7a9b70",
   "metadata": {},
   "outputs": [
    {
     "data": {
      "text/plain": [
       "array([ 0. ,  0.2,  0.4,  0.6,  0.8,  1. ,  1.2,  1.4,  1.6,  1.8,  2. ,\n",
       "        2.2,  2.4,  2.6,  2.8,  3. ,  3.2,  3.4,  3.6,  3.8,  4. ,  4.2,\n",
       "        4.4,  4.6,  4.8,  5. ,  5.2,  5.4,  5.6,  5.8,  6. ,  6.2,  6.4,\n",
       "        6.6,  6.8,  7. ,  7.2,  7.4,  7.6,  7.8,  8. ,  8.2,  8.4,  8.6,\n",
       "        8.8,  9. ,  9.2,  9.4,  9.6,  9.8, 10. ])"
      ]
     },
     "execution_count": 6,
     "metadata": {},
     "output_type": "execute_result"
    }
   ],
   "source": [
    "t = np.linspace(start = 0, stop = 10, num = 51, endpoint = True)\n",
    "t"
   ]
  },
  {
   "cell_type": "code",
   "execution_count": 7,
   "id": "966c52f9",
   "metadata": {},
   "outputs": [
    {
     "data": {
      "text/plain": [
       "array([ 1.        ,  0.98006658,  0.92106099,  0.82533561,  0.69670671,\n",
       "        0.54030231,  0.36235775,  0.16996714, -0.02919952, -0.22720209,\n",
       "       -0.41614684, -0.58850112, -0.73739372, -0.85688875, -0.94222234,\n",
       "       -0.9899925 , -0.99829478, -0.96679819, -0.89675842, -0.79096771,\n",
       "       -0.65364362, -0.49026082, -0.30733287, -0.11215253,  0.08749898,\n",
       "        0.28366219,  0.46851667,  0.63469288,  0.77556588,  0.88551952,\n",
       "        0.96017029,  0.9965421 ,  0.99318492,  0.95023259,  0.86939749,\n",
       "        0.75390225,  0.60835131,  0.43854733,  0.25125984,  0.05395542,\n",
       "       -0.14550003, -0.33915486, -0.51928865, -0.67872005, -0.81109301,\n",
       "       -0.91113026, -0.97484362, -0.99969304, -0.98468786, -0.93042627,\n",
       "       -0.83907153])"
      ]
     },
     "execution_count": 7,
     "metadata": {},
     "output_type": "execute_result"
    }
   ],
   "source": [
    "f = np.cos(t)\n",
    "f"
   ]
  },
  {
   "cell_type": "code",
   "execution_count": 8,
   "id": "2b686b6e",
   "metadata": {},
   "outputs": [
    {
     "data": {
      "image/png": "[encoded data removed]",
      "text/plain": [
       "<Figure size 432x288 with 1 Axes>"
      ]
     },
     "metadata": {
      "needs_background": "light"
     },
     "output_type": "display_data"
    }
   ],
   "source": [
    "plt.plot(t, f, color = 'green')\n",
    "\n",
    "plt.title(\"График f(t)\")\n",
    "plt.xlabel(\"Значения f\")\n",
    "plt.ylabel(\"Значения t\")\n",
    "\n",
    "plt.axis([0.5, 9.5, -2.5, 2.5])\n",
    "\n",
    "plt.show()"
   ]
  },
  {
   "cell_type": "markdown",
   "id": "52e5be20",
   "metadata": {},
   "source": [
    "#### Задание 3\n",
    "С помощью функции linspace библиотеки Numpy создайте массив x из 51 числа от -3 до 3 включительно.\n",
    "Создайте массивы y1, y2, y3, y4 по следующим формулам:\n",
    "y1 = x**2\n",
    "y2 = 2 * x + 0.5\n",
    "y3 = -3 * x - 1.5\n",
    "y4 = sin(x)\n",
    "Используя функцию subplots модуля matplotlib.pyplot, создайте объект matplotlib.figure.Figure с названием fig и массив объектов Axes под названием ax,причем так, чтобы у вас было 4 отдельных графика в сетке, состоящей из двух строк и двух столбцов. В каждом графике массив x используется для координат по горизонтали.В левом верхнем графике для координат по вертикали используйте y1,в правом верхнем - y2, в левом нижнем - y3, в правом нижнем - y4.Дайте название графикам: 'График y1', 'График y2' и т.д.\n",
    "Для графика в левом верхнем углу установите границы по оси x от -5 до 5.\n",
    "Установите размеры фигуры 8 дюймов по горизонтали и 6 дюймов по вертикали.\n",
    "Вертикальные и горизонтальные зазоры между графиками должны составлять 0.3.\n"
   ]
  },
  {
   "cell_type": "code",
   "execution_count": 9,
   "id": "1e6d046e",
   "metadata": {},
   "outputs": [
    {
     "data": {
      "text/plain": [
       "array([-3.  , -2.88, -2.76, -2.64, -2.52, -2.4 , -2.28, -2.16, -2.04,\n",
       "       -1.92, -1.8 , -1.68, -1.56, -1.44, -1.32, -1.2 , -1.08, -0.96,\n",
       "       -0.84, -0.72, -0.6 , -0.48, -0.36, -0.24, -0.12,  0.  ,  0.12,\n",
       "        0.24,  0.36,  0.48,  0.6 ,  0.72,  0.84,  0.96,  1.08,  1.2 ,\n",
       "        1.32,  1.44,  1.56,  1.68,  1.8 ,  1.92,  2.04,  2.16,  2.28,\n",
       "        2.4 ,  2.52,  2.64,  2.76,  2.88,  3.  ])"
      ]
     },
     "execution_count": 9,
     "metadata": {},
     "output_type": "execute_result"
    }
   ],
   "source": [
    "x = np.linspace(start = -3, stop = 3, num = 51, endpoint = True)\n",
    "x"
   ]
  },
  {
   "cell_type": "code",
   "execution_count": 10,
   "id": "ec5c5256",
   "metadata": {},
   "outputs": [
    {
     "data": {
      "text/plain": [
       "array([9.    , 8.2944, 7.6176, 6.9696, 6.3504, 5.76  , 5.1984, 4.6656,\n",
       "       4.1616, 3.6864, 3.24  , 2.8224, 2.4336, 2.0736, 1.7424, 1.44  ,\n",
       "       1.1664, 0.9216, 0.7056, 0.5184, 0.36  , 0.2304, 0.1296, 0.0576,\n",
       "       0.0144, 0.    , 0.0144, 0.0576, 0.1296, 0.2304, 0.36  , 0.5184,\n",
       "       0.7056, 0.9216, 1.1664, 1.44  , 1.7424, 2.0736, 2.4336, 2.8224,\n",
       "       3.24  , 3.6864, 4.1616, 4.6656, 5.1984, 5.76  , 6.3504, 6.9696,\n",
       "       7.6176, 8.2944, 9.    ])"
      ]
     },
     "execution_count": 10,
     "metadata": {},
     "output_type": "execute_result"
    }
   ],
   "source": [
    "y1 = x**2\n",
    "y1"
   ]
  },
  {
   "cell_type": "code",
   "execution_count": 11,
   "id": "51be45d7",
   "metadata": {},
   "outputs": [
    {
     "data": {
      "text/plain": [
       "array([-5.5 , -5.26, -5.02, -4.78, -4.54, -4.3 , -4.06, -3.82, -3.58,\n",
       "       -3.34, -3.1 , -2.86, -2.62, -2.38, -2.14, -1.9 , -1.66, -1.42,\n",
       "       -1.18, -0.94, -0.7 , -0.46, -0.22,  0.02,  0.26,  0.5 ,  0.74,\n",
       "        0.98,  1.22,  1.46,  1.7 ,  1.94,  2.18,  2.42,  2.66,  2.9 ,\n",
       "        3.14,  3.38,  3.62,  3.86,  4.1 ,  4.34,  4.58,  4.82,  5.06,\n",
       "        5.3 ,  5.54,  5.78,  6.02,  6.26,  6.5 ])"
      ]
     },
     "execution_count": 11,
     "metadata": {},
     "output_type": "execute_result"
    }
   ],
   "source": [
    "y2 = 2 * x + 0.5 \n",
    "y2"
   ]
  },
  {
   "cell_type": "code",
   "execution_count": 12,
   "id": "bac1ad78",
   "metadata": {},
   "outputs": [
    {
     "data": {
      "text/plain": [
       "array([  7.5 ,   7.14,   6.78,   6.42,   6.06,   5.7 ,   5.34,   4.98,\n",
       "         4.62,   4.26,   3.9 ,   3.54,   3.18,   2.82,   2.46,   2.1 ,\n",
       "         1.74,   1.38,   1.02,   0.66,   0.3 ,  -0.06,  -0.42,  -0.78,\n",
       "        -1.14,  -1.5 ,  -1.86,  -2.22,  -2.58,  -2.94,  -3.3 ,  -3.66,\n",
       "        -4.02,  -4.38,  -4.74,  -5.1 ,  -5.46,  -5.82,  -6.18,  -6.54,\n",
       "        -6.9 ,  -7.26,  -7.62,  -7.98,  -8.34,  -8.7 ,  -9.06,  -9.42,\n",
       "        -9.78, -10.14, -10.5 ])"
      ]
     },
     "execution_count": 12,
     "metadata": {},
     "output_type": "execute_result"
    }
   ],
   "source": [
    "y3 = -3 * x - 1.5 \n",
    "y3"
   ]
  },
  {
   "cell_type": "code",
   "execution_count": 13,
   "id": "6a6c5f38",
   "metadata": {},
   "outputs": [
    {
     "data": {
      "text/plain": [
       "array([-0.14112001, -0.25861935, -0.37239904, -0.48082261, -0.58233065,\n",
       "       -0.67546318, -0.75888071, -0.83138346, -0.89192865, -0.93964547,\n",
       "       -0.97384763, -0.9940432 , -0.99994172, -0.99145835, -0.9687151 ,\n",
       "       -0.93203909, -0.88195781, -0.81919157, -0.74464312, -0.65938467,\n",
       "       -0.56464247, -0.46177918, -0.35227423, -0.23770263, -0.11971221,\n",
       "        0.        ,  0.11971221,  0.23770263,  0.35227423,  0.46177918,\n",
       "        0.56464247,  0.65938467,  0.74464312,  0.81919157,  0.88195781,\n",
       "        0.93203909,  0.9687151 ,  0.99145835,  0.99994172,  0.9940432 ,\n",
       "        0.97384763,  0.93964547,  0.89192865,  0.83138346,  0.75888071,\n",
       "        0.67546318,  0.58233065,  0.48082261,  0.37239904,  0.25861935,\n",
       "        0.14112001])"
      ]
     },
     "execution_count": 13,
     "metadata": {},
     "output_type": "execute_result"
    }
   ],
   "source": [
    "y4 = np.sin(x)\n",
    "y4"
   ]
  },
  {
   "cell_type": "code",
   "execution_count": 14,
   "id": "cfe8b23a",
   "metadata": {},
   "outputs": [
    {
     "data": {
      "text/plain": [
       "(-5.0, 5.0)"
      ]
     },
     "execution_count": 14,
     "metadata": {},
     "output_type": "execute_result"
    },
    {
     "data": {
      "image/png": "[encoded data removed]",
      "text/plain": [
       "<Figure size 576x432 with 4 Axes>"
      ]
     },
     "metadata": {
      "needs_background": "light"
     },
     "output_type": "display_data"
    }
   ],
   "source": [
    "fig, ax = plt.subplots(nrows=2, ncols=2)\n",
    "ax1, ax2, ax3, ax4 = ax.flatten()\n",
    "fig.subplots_adjust(wspace=0.3, hspace=0.3)\n",
    "fig.set_size_inches(8, 6)\n",
    "\n",
    "ax1.plot(x, y1)\n",
    "ax2.plot(x, y2)\n",
    "ax3.plot(x, y3)\n",
    "ax4.plot(x, y4)\n",
    "\n",
    "ax1.set_title(\"График y1\")\n",
    "ax2.set_title(\"График y2\")\n",
    "ax3.set_title(\"График y3\")\n",
    "ax4.set_title(\"График y4\")\n",
    "ax1.set_xlim([-5, 5])"
   ]
  },
  {
   "cell_type": "markdown",
   "id": "6ada41df",
   "metadata": {},
   "source": [
    "#### Задание 4\n",
    "В этом задании мы будем работать с датасетом, в котором приведены данные по мошенничеству с кредитными данными: Credit Card Fraud Detection (информация об авторах: Andrea Dal Pozzolo, Olivier Caelen, Reid A. Johnson and Gianluca Bontempi. Calibrating Probability with Undersampling for Unbalanced Classification. In Symposium on Computational Intelligence and Data Mining (CIDM), IEEE, 2015).\n",
    "Ознакомьтесь с описанием и скачайте датасет creditcard.csv с сайта Kaggle.com по ссылке:\n",
    "Credit Card Fraud Detection\n",
    "Данный датасет является примером несбалансированных данных, так как мошеннические операции с картами встречаются реже обычных.\n",
    "Импортируйте библиотеку Pandas, а также используйте для графиков стиль “fivethirtyeight”.\n",
    "Посчитайте с помощью метода value_counts количество наблюдений для каждого значения целевой переменной Class и примените к полученным данным метод plot, чтобы построить столбчатую диаграмму. Затем постройте такую же диаграмму, используя логарифмический масштаб.\n",
    "На следующем графике постройте две гистограммы по значениям признака V1 - одну для мошеннических транзакций (Class равен 1) и другую - для обычных (Class равен 0). Подберите значение аргумента density так, чтобы по вертикали графика было расположено не число наблюдений, а плотность распределения. Число бинов должно равняться 20 для обеих гистограмм, а коэффициент alpha сделайте равным 0.5, чтобы гистограммы были полупрозрачными и не загораживали друг друга. Создайте легенду с двумя значениями: “Class 0” и “Class 1”. Гистограмма обычных транзакций должна быть серого цвета, а мошеннических - красного. Горизонтальной оси дайте название “V1”."
   ]
  },
  {
   "cell_type": "code",
   "execution_count": 15,
   "id": "9c1f24f3",
   "metadata": {},
   "outputs": [],
   "source": [
    "DATASET = './creditcard.csv'"
   ]
  },
  {
   "cell_type": "code",
   "execution_count": 16,
   "id": "d6822e7e",
   "metadata": {},
   "outputs": [],
   "source": [
    "df = pd.read_csv(DATASET, sep=',')"
   ]
  },
  {
   "cell_type": "code",
   "execution_count": 17,
   "id": "65a3f65b",
   "metadata": {},
   "outputs": [
    {
     "data": {
      "text/html": [
       "<div>\n",
       "<style scoped>\n",
       "    .dataframe tbody tr th:only-of-type {\n",
       "        vertical-align: middle;\n",
       "    }\n",
       "\n",
       "    .dataframe tbody tr th {\n",
       "        vertical-align: top;\n",
       "    }\n",
       "\n",
       "    .dataframe thead th {\n",
       "        text-align: right;\n",
       "    }\n",
       "</style>\n",
       "<table border=\"1\" class=\"dataframe\">\n",
       "  <thead>\n",
       "    <tr style=\"text-align: right;\">\n",
       "      <th></th>\n",
       "      <th>Time</th>\n",
       "      <th>V1</th>\n",
       "      <th>V2</th>\n",
       "      <th>V3</th>\n",
       "      <th>V4</th>\n",
       "      <th>V5</th>\n",
       "      <th>V6</th>\n",
       "      <th>V7</th>\n",
       "      <th>V8</th>\n",
       "      <th>V9</th>\n",
       "      <th>...</th>\n",
       "      <th>V21</th>\n",
       "      <th>V22</th>\n",
       "      <th>V23</th>\n",
       "      <th>V24</th>\n",
       "      <th>V25</th>\n",
       "      <th>V26</th>\n",
       "      <th>V27</th>\n",
       "      <th>V28</th>\n",
       "      <th>Amount</th>\n",
       "      <th>Class</th>\n",
       "    </tr>\n",
       "  </thead>\n",
       "  <tbody>\n",
       "    <tr>\n",
       "      <th>0</th>\n",
       "      <td>0.0</td>\n",
       "      <td>-1.359807</td>\n",
       "      <td>-0.072781</td>\n",
       "      <td>2.536347</td>\n",
       "      <td>1.378155</td>\n",
       "      <td>-0.338321</td>\n",
       "      <td>0.462388</td>\n",
       "      <td>0.239599</td>\n",
       "      <td>0.098698</td>\n",
       "      <td>0.363787</td>\n",
       "      <td>...</td>\n",
       "      <td>-0.018307</td>\n",
       "      <td>0.277838</td>\n",
       "      <td>-0.110474</td>\n",
       "      <td>0.066928</td>\n",
       "      <td>0.128539</td>\n",
       "      <td>-0.189115</td>\n",
       "      <td>0.133558</td>\n",
       "      <td>-0.021053</td>\n",
       "      <td>149.62</td>\n",
       "      <td>0</td>\n",
       "    </tr>\n",
       "    <tr>\n",
       "      <th>1</th>\n",
       "      <td>0.0</td>\n",
       "      <td>1.191857</td>\n",
       "      <td>0.266151</td>\n",
       "      <td>0.166480</td>\n",
       "      <td>0.448154</td>\n",
       "      <td>0.060018</td>\n",
       "      <td>-0.082361</td>\n",
       "      <td>-0.078803</td>\n",
       "      <td>0.085102</td>\n",
       "      <td>-0.255425</td>\n",
       "      <td>...</td>\n",
       "      <td>-0.225775</td>\n",
       "      <td>-0.638672</td>\n",
       "      <td>0.101288</td>\n",
       "      <td>-0.339846</td>\n",
       "      <td>0.167170</td>\n",
       "      <td>0.125895</td>\n",
       "      <td>-0.008983</td>\n",
       "      <td>0.014724</td>\n",
       "      <td>2.69</td>\n",
       "      <td>0</td>\n",
       "    </tr>\n",
       "    <tr>\n",
       "      <th>2</th>\n",
       "      <td>1.0</td>\n",
       "      <td>-1.358354</td>\n",
       "      <td>-1.340163</td>\n",
       "      <td>1.773209</td>\n",
       "      <td>0.379780</td>\n",
       "      <td>-0.503198</td>\n",
       "      <td>1.800499</td>\n",
       "      <td>0.791461</td>\n",
       "      <td>0.247676</td>\n",
       "      <td>-1.514654</td>\n",
       "      <td>...</td>\n",
       "      <td>0.247998</td>\n",
       "      <td>0.771679</td>\n",
       "      <td>0.909412</td>\n",
       "      <td>-0.689281</td>\n",
       "      <td>-0.327642</td>\n",
       "      <td>-0.139097</td>\n",
       "      <td>-0.055353</td>\n",
       "      <td>-0.059752</td>\n",
       "      <td>378.66</td>\n",
       "      <td>0</td>\n",
       "    </tr>\n",
       "    <tr>\n",
       "      <th>3</th>\n",
       "      <td>1.0</td>\n",
       "      <td>-0.966272</td>\n",
       "      <td>-0.185226</td>\n",
       "      <td>1.792993</td>\n",
       "      <td>-0.863291</td>\n",
       "      <td>-0.010309</td>\n",
       "      <td>1.247203</td>\n",
       "      <td>0.237609</td>\n",
       "      <td>0.377436</td>\n",
       "      <td>-1.387024</td>\n",
       "      <td>...</td>\n",
       "      <td>-0.108300</td>\n",
       "      <td>0.005274</td>\n",
       "      <td>-0.190321</td>\n",
       "      <td>-1.175575</td>\n",
       "      <td>0.647376</td>\n",
       "      <td>-0.221929</td>\n",
       "      <td>0.062723</td>\n",
       "      <td>0.061458</td>\n",
       "      <td>123.50</td>\n",
       "      <td>0</td>\n",
       "    </tr>\n",
       "    <tr>\n",
       "      <th>4</th>\n",
       "      <td>2.0</td>\n",
       "      <td>-1.158233</td>\n",
       "      <td>0.877737</td>\n",
       "      <td>1.548718</td>\n",
       "      <td>0.403034</td>\n",
       "      <td>-0.407193</td>\n",
       "      <td>0.095921</td>\n",
       "      <td>0.592941</td>\n",
       "      <td>-0.270533</td>\n",
       "      <td>0.817739</td>\n",
       "      <td>...</td>\n",
       "      <td>-0.009431</td>\n",
       "      <td>0.798278</td>\n",
       "      <td>-0.137458</td>\n",
       "      <td>0.141267</td>\n",
       "      <td>-0.206010</td>\n",
       "      <td>0.502292</td>\n",
       "      <td>0.219422</td>\n",
       "      <td>0.215153</td>\n",
       "      <td>69.99</td>\n",
       "      <td>0</td>\n",
       "    </tr>\n",
       "    <tr>\n",
       "      <th>...</th>\n",
       "      <td>...</td>\n",
       "      <td>...</td>\n",
       "      <td>...</td>\n",
       "      <td>...</td>\n",
       "      <td>...</td>\n",
       "      <td>...</td>\n",
       "      <td>...</td>\n",
       "      <td>...</td>\n",
       "      <td>...</td>\n",
       "      <td>...</td>\n",
       "      <td>...</td>\n",
       "      <td>...</td>\n",
       "      <td>...</td>\n",
       "      <td>...</td>\n",
       "      <td>...</td>\n",
       "      <td>...</td>\n",
       "      <td>...</td>\n",
       "      <td>...</td>\n",
       "      <td>...</td>\n",
       "      <td>...</td>\n",
       "      <td>...</td>\n",
       "    </tr>\n",
       "    <tr>\n",
       "      <th>284802</th>\n",
       "      <td>172786.0</td>\n",
       "      <td>-11.881118</td>\n",
       "      <td>10.071785</td>\n",
       "      <td>-9.834783</td>\n",
       "      <td>-2.066656</td>\n",
       "      <td>-5.364473</td>\n",
       "      <td>-2.606837</td>\n",
       "      <td>-4.918215</td>\n",
       "      <td>7.305334</td>\n",
       "      <td>1.914428</td>\n",
       "      <td>...</td>\n",
       "      <td>0.213454</td>\n",
       "      <td>0.111864</td>\n",
       "      <td>1.014480</td>\n",
       "      <td>-0.509348</td>\n",
       "      <td>1.436807</td>\n",
       "      <td>0.250034</td>\n",
       "      <td>0.943651</td>\n",
       "      <td>0.823731</td>\n",
       "      <td>0.77</td>\n",
       "      <td>0</td>\n",
       "    </tr>\n",
       "    <tr>\n",
       "      <th>284803</th>\n",
       "      <td>172787.0</td>\n",
       "      <td>-0.732789</td>\n",
       "      <td>-0.055080</td>\n",
       "      <td>2.035030</td>\n",
       "      <td>-0.738589</td>\n",
       "      <td>0.868229</td>\n",
       "      <td>1.058415</td>\n",
       "      <td>0.024330</td>\n",
       "      <td>0.294869</td>\n",
       "      <td>0.584800</td>\n",
       "      <td>...</td>\n",
       "      <td>0.214205</td>\n",
       "      <td>0.924384</td>\n",
       "      <td>0.012463</td>\n",
       "      <td>-1.016226</td>\n",
       "      <td>-0.606624</td>\n",
       "      <td>-0.395255</td>\n",
       "      <td>0.068472</td>\n",
       "      <td>-0.053527</td>\n",
       "      <td>24.79</td>\n",
       "      <td>0</td>\n",
       "    </tr>\n",
       "    <tr>\n",
       "      <th>284804</th>\n",
       "      <td>172788.0</td>\n",
       "      <td>1.919565</td>\n",
       "      <td>-0.301254</td>\n",
       "      <td>-3.249640</td>\n",
       "      <td>-0.557828</td>\n",
       "      <td>2.630515</td>\n",
       "      <td>3.031260</td>\n",
       "      <td>-0.296827</td>\n",
       "      <td>0.708417</td>\n",
       "      <td>0.432454</td>\n",
       "      <td>...</td>\n",
       "      <td>0.232045</td>\n",
       "      <td>0.578229</td>\n",
       "      <td>-0.037501</td>\n",
       "      <td>0.640134</td>\n",
       "      <td>0.265745</td>\n",
       "      <td>-0.087371</td>\n",
       "      <td>0.004455</td>\n",
       "      <td>-0.026561</td>\n",
       "      <td>67.88</td>\n",
       "      <td>0</td>\n",
       "    </tr>\n",
       "    <tr>\n",
       "      <th>284805</th>\n",
       "      <td>172788.0</td>\n",
       "      <td>-0.240440</td>\n",
       "      <td>0.530483</td>\n",
       "      <td>0.702510</td>\n",
       "      <td>0.689799</td>\n",
       "      <td>-0.377961</td>\n",
       "      <td>0.623708</td>\n",
       "      <td>-0.686180</td>\n",
       "      <td>0.679145</td>\n",
       "      <td>0.392087</td>\n",
       "      <td>...</td>\n",
       "      <td>0.265245</td>\n",
       "      <td>0.800049</td>\n",
       "      <td>-0.163298</td>\n",
       "      <td>0.123205</td>\n",
       "      <td>-0.569159</td>\n",
       "      <td>0.546668</td>\n",
       "      <td>0.108821</td>\n",
       "      <td>0.104533</td>\n",
       "      <td>10.00</td>\n",
       "      <td>0</td>\n",
       "    </tr>\n",
       "    <tr>\n",
       "      <th>284806</th>\n",
       "      <td>172792.0</td>\n",
       "      <td>-0.533413</td>\n",
       "      <td>-0.189733</td>\n",
       "      <td>0.703337</td>\n",
       "      <td>-0.506271</td>\n",
       "      <td>-0.012546</td>\n",
       "      <td>-0.649617</td>\n",
       "      <td>1.577006</td>\n",
       "      <td>-0.414650</td>\n",
       "      <td>0.486180</td>\n",
       "      <td>...</td>\n",
       "      <td>0.261057</td>\n",
       "      <td>0.643078</td>\n",
       "      <td>0.376777</td>\n",
       "      <td>0.008797</td>\n",
       "      <td>-0.473649</td>\n",
       "      <td>-0.818267</td>\n",
       "      <td>-0.002415</td>\n",
       "      <td>0.013649</td>\n",
       "      <td>217.00</td>\n",
       "      <td>0</td>\n",
       "    </tr>\n",
       "  </tbody>\n",
       "</table>\n",
       "<p>284807 rows × 31 columns</p>\n",
       "</div>"
      ],
      "text/plain": [
       "            Time         V1         V2        V3        V4        V5  \\\n",
       "0            0.0  -1.359807  -0.072781  2.536347  1.378155 -0.338321   \n",
       "1            0.0   1.191857   0.266151  0.166480  0.448154  0.060018   \n",
       "2            1.0  -1.358354  -1.340163  1.773209  0.379780 -0.503198   \n",
       "3            1.0  -0.966272  -0.185226  1.792993 -0.863291 -0.010309   \n",
       "4            2.0  -1.158233   0.877737  1.548718  0.403034 -0.407193   \n",
       "...          ...        ...        ...       ...       ...       ...   \n",
       "284802  172786.0 -11.881118  10.071785 -9.834783 -2.066656 -5.364473   \n",
       "284803  172787.0  -0.732789  -0.055080  2.035030 -0.738589  0.868229   \n",
       "284804  172788.0   1.919565  -0.301254 -3.249640 -0.557828  2.630515   \n",
       "284805  172788.0  -0.240440   0.530483  0.702510  0.689799 -0.377961   \n",
       "284806  172792.0  -0.533413  -0.189733  0.703337 -0.506271 -0.012546   \n",
       "\n",
       "              V6        V7        V8        V9  ...       V21       V22  \\\n",
       "0       0.462388  0.239599  0.098698  0.363787  ... -0.018307  0.277838   \n",
       "1      -0.082361 -0.078803  0.085102 -0.255425  ... -0.225775 -0.638672   \n",
       "2       1.800499  0.791461  0.247676 -1.514654  ...  0.247998  0.771679   \n",
       "3       1.247203  0.237609  0.377436 -1.387024  ... -0.108300  0.005274   \n",
       "4       0.095921  0.592941 -0.270533  0.817739  ... -0.009431  0.798278   \n",
       "...          ...       ...       ...       ...  ...       ...       ...   \n",
       "284802 -2.606837 -4.918215  7.305334  1.914428  ...  0.213454  0.111864   \n",
       "284803  1.058415  0.024330  0.294869  0.584800  ...  0.214205  0.924384   \n",
       "284804  3.031260 -0.296827  0.708417  0.432454  ...  0.232045  0.578229   \n",
       "284805  0.623708 -0.686180  0.679145  0.392087  ...  0.265245  0.800049   \n",
       "284806 -0.649617  1.577006 -0.414650  0.486180  ...  0.261057  0.643078   \n",
       "\n",
       "             V23       V24       V25       V26       V27       V28  Amount  \\\n",
       "0      -0.110474  0.066928  0.128539 -0.189115  0.133558 -0.021053  149.62   \n",
       "1       0.101288 -0.339846  0.167170  0.125895 -0.008983  0.014724    2.69   \n",
       "2       0.909412 -0.689281 -0.327642 -0.139097 -0.055353 -0.059752  378.66   \n",
       "3      -0.190321 -1.175575  0.647376 -0.221929  0.062723  0.061458  123.50   \n",
       "4      -0.137458  0.141267 -0.206010  0.502292  0.219422  0.215153   69.99   \n",
       "...          ...       ...       ...       ...       ...       ...     ...   \n",
       "284802  1.014480 -0.509348  1.436807  0.250034  0.943651  0.823731    0.77   \n",
       "284803  0.012463 -1.016226 -0.606624 -0.395255  0.068472 -0.053527   24.79   \n",
       "284804 -0.037501  0.640134  0.265745 -0.087371  0.004455 -0.026561   67.88   \n",
       "284805 -0.163298  0.123205 -0.569159  0.546668  0.108821  0.104533   10.00   \n",
       "284806  0.376777  0.008797 -0.473649 -0.818267 -0.002415  0.013649  217.00   \n",
       "\n",
       "        Class  \n",
       "0           0  \n",
       "1           0  \n",
       "2           0  \n",
       "3           0  \n",
       "4           0  \n",
       "...       ...  \n",
       "284802      0  \n",
       "284803      0  \n",
       "284804      0  \n",
       "284805      0  \n",
       "284806      0  \n",
       "\n",
       "[284807 rows x 31 columns]"
      ]
     },
     "execution_count": 17,
     "metadata": {},
     "output_type": "execute_result"
    }
   ],
   "source": [
    "df.head(4)\n",
    "df"
   ]
  },
  {
   "cell_type": "code",
   "execution_count": 18,
   "id": "cf22fb9c",
   "metadata": {},
   "outputs": [
    {
     "data": {
      "text/plain": [
       "0    284315\n",
       "1       492\n",
       "Name: Class, dtype: int64"
      ]
     },
     "execution_count": 18,
     "metadata": {},
     "output_type": "execute_result"
    }
   ],
   "source": [
    "x = df['Class'].value_counts()\n",
    "x"
   ]
  },
  {
   "cell_type": "code",
   "execution_count": 19,
   "id": "ff29eb03",
   "metadata": {},
   "outputs": [],
   "source": [
    "plt.style.use('fivethirtyeight')"
   ]
  },
  {
   "cell_type": "code",
   "execution_count": 20,
   "id": "a3ed4d15",
   "metadata": {},
   "outputs": [
    {
     "data": {
      "text/plain": [
       "<AxesSubplot:>"
      ]
     },
     "execution_count": 20,
     "metadata": {},
     "output_type": "execute_result"
    },
    {
     "data": {
      "image/png": "[encoded data removed]",
      "text/plain": [
       "<Figure size 432x288 with 1 Axes>"
      ]
     },
     "metadata": {},
     "output_type": "display_data"
    }
   ],
   "source": [
    "x.plot(kind=\"barh\")"
   ]
  },
  {
   "cell_type": "code",
   "execution_count": 21,
   "id": "789d5d0e",
   "metadata": {},
   "outputs": [
    {
     "data": {
      "text/plain": [
       "<AxesSubplot:>"
      ]
     },
     "execution_count": 21,
     "metadata": {},
     "output_type": "execute_result"
    },
    {
     "data": {
      "image/png": "[encoded data removed]",
      "text/plain": [
       "<Figure size 432x288 with 1 Axes>"
      ]
     },
     "metadata": {},
     "output_type": "display_data"
    }
   ],
   "source": [
    "x.plot(kind=\"barh\", logx=True)"
   ]
  },
  {
   "cell_type": "code",
   "execution_count": 22,
   "id": "4f316713",
   "metadata": {},
   "outputs": [
    {
     "data": {
      "text/plain": [
       "[-1.3598071336738,\n",
       " 1.19185711131486,\n",
       " -1.35835406159823,\n",
       " -0.966271711572087,\n",
       " -1.15823309349523,\n",
       " -0.425965884412454,\n",
       " 1.22965763450793,\n",
       " -0.644269442348146,\n",
       " -0.89428608220282,\n",
       " -0.33826175242575,\n",
       " 1.44904378114715,\n",
       " 0.38497821518095,\n",
       " 1.249998742053,\n",
       " 1.0693735878819,\n",
       " -2.7918547659339,\n",
       " -0.752417042956605,\n",
       " 1.10321543528383,\n",
       " -0.436905071360625,\n",
       " -5.40125766315825,\n",
       " 1.4929359769862,\n",
       " 0.694884775607337,\n",
       " 0.962496069914852,\n",
       " 1.16661638244228,\n",
       " 0.247491127783665,\n",
       " -1.94652513121534,\n",
       " -2.0742946722629,\n",
       " 1.17328461017079,\n",
       " 1.32270726911234,\n",
       " -0.414288810090829,\n",
       " 1.05938711501788,\n",
       " 1.23742903021294,\n",
       " 1.11400859541157,\n",
       " -0.529912284186556,\n",
       " -0.529912284186556,\n",
       " -0.53538776309446,\n",
       " -0.53538776309446,\n",
       " -0.246045948703835,\n",
       " -1.45218727859439,\n",
       " 0.996369531566045,\n",
       " 1.11088034163339,\n",
       " 1.24905471963177,\n",
       " -2.00887179458613,\n",
       " -0.607877142993026,\n",
       " -0.935731508971261,\n",
       " -0.762255665726893,\n",
       " 1.13831556625444,\n",
       " -0.291540244596543,\n",
       " 0.201685891430752,\n",
       " 1.38639697419213,\n",
       " -1.06323567874519,\n",
       " 1.19935593362078,\n",
       " -1.00492933857661,\n",
       " -1.16942245796433,\n",
       " 1.09552460629831,\n",
       " 1.29566762073068,\n",
       " 0.158331782301759,\n",
       " -0.554064564931988,\n",
       " -1.33088157532471,\n",
       " 1.11069200372208,\n",
       " 1.15431211678574,\n",
       " 0.986063325558912,\n",
       " 1.1387593359078,\n",
       " 1.14552438734553,\n",
       " -0.249361327961551,\n",
       " -0.522666281326226,\n",
       " -0.899992449383227,\n",
       " -0.7147640190509,\n",
       " -0.948896382774995,\n",
       " 0.92706024886951,\n",
       " -1.92321320363186,\n",
       " 1.00658858258061,\n",
       " -0.378244634508222,\n",
       " 1.19783859904952,\n",
       " -0.580628965016257,\n",
       " -1.79340624422786,\n",
       " 1.09860834614642,\n",
       " -0.549626144798035,\n",
       " 0.921543679723553,\n",
       " -0.571520749961747,\n",
       " -0.671708547741052,\n",
       " 1.25987313565004,\n",
       " 1.14736892702922,\n",
       " -3.00523672241459,\n",
       " -1.19896767411718,\n",
       " 1.20239832807905,\n",
       " -4.57509260816239,\n",
       " -0.773450000458189,\n",
       " -0.847998365598453,\n",
       " 0.0869961905163749,\n",
       " -0.773292609110981,\n",
       " 0.921024018835922,\n",
       " 1.06914138489519,\n",
       " 1.10702937694843,\n",
       " -1.03510581776689,\n",
       " 1.21251089095254,\n",
       " -0.658304934095684,\n",
       " 0.95960165851223,\n",
       " -0.653444627294995,\n",
       " -1.49466784074271,\n",
       " 1.23299646466342,\n",
       " 1.15693906521199,\n",
       " -0.770196382647988,\n",
       " 0.298503170230964,\n",
       " -0.608026929841982,\n",
       " -1.76664469899536,\n",
       " -2.22064182690618,\n",
       " -0.426071693865111,\n",
       " 1.33189715687662,\n",
       " 1.16228088374727,\n",
       " 1.23904805325795,\n",
       " 0.925996612578014,\n",
       " 1.14818692615291,\n",
       " 1.03837033396612,\n",
       " 1.03837033396612,\n",
       " 1.03837033396612,\n",
       " 1.03837033396612,\n",
       " -1.43906881704731,\n",
       " -1.02457604912536,\n",
       " -0.997175759175411,\n",
       " -1.16572174717741,\n",
       " -1.18595403044578,\n",
       " -0.42719085439784,\n",
       " -0.622478371733696,\n",
       " -0.291241163405236,\n",
       " -1.76040248125239,\n",
       " -0.590589253571079,\n",
       " -2.37438030624993,\n",
       " -0.655264276212716,\n",
       " -3.00773905109524,\n",
       " 1.11104797028704,\n",
       " -3.59182616090439,\n",
       " -0.888004365805212,\n",
       " -1.86498968243287,\n",
       " -0.833200336381452,\n",
       " -1.89733073855531,\n",
       " 1.11927230446687,\n",
       " -0.792329167474935,\n",
       " -0.481375994326719,\n",
       " 1.32788388574198,\n",
       " -4.25759743970886,\n",
       " -5.10187714438251,\n",
       " 1.28722646741254,\n",
       " 0.270724788018374,\n",
       " -0.58985594431031,\n",
       " 1.27613378318593,\n",
       " -1.8222727282391,\n",
       " -5.28597051304752,\n",
       " 0.60715301412013,\n",
       " -0.238410956047651,\n",
       " -0.853806863875249,\n",
       " -1.64001427310525,\n",
       " 1.05702132888882,\n",
       " -0.343711497676269,\n",
       " 1.31617764954493,\n",
       " 1.19557161849305,\n",
       " 1.27381789287239,\n",
       " -0.646513324100542,\n",
       " 1.02711436915778,\n",
       " -0.883995649772828,\n",
       " 1.08103308286119,\n",
       " -0.378601661083143,\n",
       " -1.40900945232726,\n",
       " -0.94089283998755,\n",
       " 1.24574380820264,\n",
       " -6.09324780457494,\n",
       " 1.00023398953512,\n",
       " 1.17509409290025,\n",
       " -0.306311185528508,\n",
       " 1.17512477712478,\n",
       " -0.817164489969121,\n",
       " 1.20606523917482,\n",
       " -1.2768303373631,\n",
       " -0.59193265098725,\n",
       " -0.820860221930224,\n",
       " -4.81602179918938,\n",
       " 1.10269785705561,\n",
       " 1.14755385606263,\n",
       " 1.19406627067496,\n",
       " -0.284446201887147,\n",
       " -0.182928163161652,\n",
       " 0.8056818038147,\n",
       " -1.01026659690107,\n",
       " 1.25491350721112,\n",
       " 1.4310534091187,\n",
       " -0.868565326449855,\n",
       " -0.50572836193902,\n",
       " 0.968783928886267,\n",
       " -0.614586106416274,\n",
       " 1.10525345275619,\n",
       " -1.71093476786515,\n",
       " -2.80706450646631,\n",
       " 0.853907974081155,\n",
       " -0.724910391642523,\n",
       " 1.35648932304895,\n",
       " -0.549716076351302,\n",
       " 1.23949480822237,\n",
       " -0.485237731354587,\n",
       " 1.35328308643535,\n",
       " -1.00739058275579,\n",
       " -0.394815704179131,\n",
       " -1.57135931118663,\n",
       " 0.709335677767676,\n",
       " 1.10176244239434,\n",
       " 1.20720732422405,\n",
       " -0.541889409867868,\n",
       " -0.568284747585613,\n",
       " 0.753307852006014,\n",
       " -0.986639536232516,\n",
       " 0.951278275520493,\n",
       " 1.17547797784407,\n",
       " -4.63653366354065,\n",
       " -3.22274501100038,\n",
       " 0.693502988755359,\n",
       " 1.00794705665789,\n",
       " 1.18045800237621,\n",
       " 1.21140602376378,\n",
       " 1.28825562199891,\n",
       " -2.14345753168918,\n",
       " -1.03293991549335,\n",
       " 1.12257864240305,\n",
       " -2.42041282408364,\n",
       " -2.42041282408364,\n",
       " -2.4194856262823,\n",
       " -2.4194856262823,\n",
       " 0.912979151045631,\n",
       " -2.68797796870046,\n",
       " -0.399879706933424,\n",
       " 0.0954900228456742,\n",
       " -0.648576025602736,\n",
       " -0.903628224068223,\n",
       " 1.19084416700527,\n",
       " 1.31560130547239,\n",
       " -0.546215294972356,\n",
       " 1.1719535217444,\n",
       " 0.714401041887493,\n",
       " -3.49486085637009,\n",
       " 1.32529522842754,\n",
       " -0.600816388115364,\n",
       " -0.159985036673326,\n",
       " 1.1714389026217,\n",
       " -1.55148161076975,\n",
       " 1.03996431285983,\n",
       " 1.21205680491093,\n",
       " -0.433211486483386,\n",
       " 0.0734967056887614,\n",
       " 1.32177832458389,\n",
       " -0.827464822569393,\n",
       " -1.32906236984437,\n",
       " 1.27496709005001,\n",
       " -4.06686227118254,\n",
       " -0.36553173374041,\n",
       " -0.957819798032566,\n",
       " -1.42853496087881,\n",
       " 1.26469866632806,\n",
       " -0.431091691864319,\n",
       " -0.782666195196938,\n",
       " 1.29403278460023,\n",
       " -0.723637212116882,\n",
       " 1.13675205349017,\n",
       " 0.726749303819795,\n",
       " -0.598071289304104,\n",
       " 1.1992776677352,\n",
       " -0.143256002557238,\n",
       " -0.24130170318649,\n",
       " 0.0660607724103991,\n",
       " 1.16843338889501,\n",
       " -1.5057791635308,\n",
       " -0.913599728792569,\n",
       " 0.0757496976674046,\n",
       " 0.80384592083057,\n",
       " -0.549414252248888,\n",
       " -0.351286911319442,\n",
       " -0.922515163569518,\n",
       " -1.13151717857972,\n",
       " -0.773295861622834,\n",
       " -0.931154307391249,\n",
       " -0.278287824772175,\n",
       " 1.19865849537628,\n",
       " -0.923891760950516,\n",
       " 1.02926861988186,\n",
       " 1.18770633373201,\n",
       " -0.304922925009803,\n",
       " -1.2694612985858,\n",
       " 0.860652097177395,\n",
       " -0.938225555281122,\n",
       " -0.188423950358007,\n",
       " 1.18239888187218,\n",
       " -1.4997610740042,\n",
       " -1.42715155908329,\n",
       " -0.370562536427162,\n",
       " -5.85246510836535,\n",
       " -0.742877145631453,\n",
       " 1.22850116135076,\n",
       " -0.572010633445768,\n",
       " -0.429224487181263,\n",
       " 1.29392704695816,\n",
       " 0.263523486017542,\n",
       " -0.24782697327908,\n",
       " -0.263380494288141,\n",
       " 1.0877916547761,\n",
       " -2.42122994075349,\n",
       " -0.391724600264259,\n",
       " -1.04566850139391,\n",
       " 1.20198934260699,\n",
       " -0.592060069858075,\n",
       " 1.21911209726618,\n",
       " -0.34287127670878,\n",
       " -1.17773139753265,\n",
       " -0.352704348425182,\n",
       " 1.08697116347518,\n",
       " -0.443640309580642,\n",
       " 1.08102680841932,\n",
       " 1.47877285286563,\n",
       " -0.60883073513444,\n",
       " -1.46538099225754,\n",
       " 1.12059926346433,\n",
       " 1.10576757085675,\n",
       " -0.420269748024928,\n",
       " -0.961507377354571,\n",
       " 0.28309984963423,\n",
       " -0.602482640725502,\n",
       " -0.663511067150586,\n",
       " -1.16908654272192,\n",
       " -0.438337379138369,\n",
       " 1.2602478379457,\n",
       " -0.473290464047342,\n",
       " -0.992403869252745,\n",
       " 1.16752665064507,\n",
       " -1.14232093108918,\n",
       " -2.39844587044795,\n",
       " -0.849347742302973,\n",
       " 1.18157196871777,\n",
       " -0.398935074654529,\n",
       " -1.11894551099344,\n",
       " -1.07704591768768,\n",
       " 1.31125848597963,\n",
       " -1.06919985264781,\n",
       " -0.68576979154299,\n",
       " -0.216866830573623,\n",
       " -0.788406123131655,\n",
       " -1.33737490769388,\n",
       " 1.20663783361344,\n",
       " 1.07181268393766,\n",
       " -0.238642948851198,\n",
       " -2.39543391284319,\n",
       " -1.37724532894464,\n",
       " -0.471795900501931,\n",
       " -0.599318040806814,\n",
       " 1.13093276051983,\n",
       " -0.942940340772634,\n",
       " 1.09506741758645,\n",
       " -1.56948528932408,\n",
       " -0.363607747775808,\n",
       " 1.45590577026253,\n",
       " 1.02670174848364,\n",
       " 1.07522901074671,\n",
       " 1.26032783148891,\n",
       " 1.1436489111363,\n",
       " -0.293838835769698,\n",
       " -0.561092494127646,\n",
       " -0.491003017302294,\n",
       " 0.0736314815543283,\n",
       " -2.56496104960942,\n",
       " 1.28967251653565,\n",
       " 0.982539103625625,\n",
       " 0.992495951516809,\n",
       " -0.0710037261845793,\n",
       " 1.14606539406735,\n",
       " 1.32062602968289,\n",
       " -0.334463053149098,\n",
       " -1.35693548969166,\n",
       " 1.1961928083246,\n",
       " -0.689738299845791,\n",
       " 0.867478766799032,\n",
       " 1.12435494268587,\n",
       " -0.792970439917819,\n",
       " 0.216726737744709,\n",
       " -0.586189993683314,\n",
       " -0.363518693983855,\n",
       " -1.09230140566121,\n",
       " -0.857062519648965,\n",
       " -0.365229401506496,\n",
       " 0.87879449324497,\n",
       " -0.356466189895633,\n",
       " 0.0577799473883394,\n",
       " -0.426029991131099,\n",
       " -0.669415282482136,\n",
       " 0.948031796863003,\n",
       " -0.529995754566706,\n",
       " 1.14143647517214,\n",
       " -0.942623062836132,\n",
       " -0.764965866218257,\n",
       " -1.16721188447311,\n",
       " -0.810756466060034,\n",
       " -0.931805001457903,\n",
       " 1.03007160431156,\n",
       " -0.59881954604639,\n",
       " 1.09858448926493,\n",
       " 1.26806876340874,\n",
       " -1.7821164916603,\n",
       " -0.695817814950708,\n",
       " -5.16629893298859,\n",
       " -0.487233806417431,\n",
       " 1.35515717380309,\n",
       " -0.401848585025764,\n",
       " 1.25218924681481,\n",
       " 1.12331106455199,\n",
       " -1.09747696412833,\n",
       " -0.745115694204064,\n",
       " 1.16845959651699,\n",
       " 1.17148793760833,\n",
       " -1.14803754695633,\n",
       " 1.14561376267746,\n",
       " 1.21841703838567,\n",
       " 1.33141172776624,\n",
       " 0.0070425366187774,\n",
       " 1.07378531625104,\n",
       " -0.986171235822638,\n",
       " 1.25425812093564,\n",
       " 1.03113202174389,\n",
       " 1.04963938739163,\n",
       " 0.439949564265165,\n",
       " -2.65828844483766,\n",
       " 1.16920882495847,\n",
       " 1.10387021387758,\n",
       " 1.23952614507919,\n",
       " 1.03138076172948,\n",
       " -1.23635071773923,\n",
       " -1.01328699662916,\n",
       " -0.728857139958339,\n",
       " 1.09034862846329,\n",
       " 1.18223808718654,\n",
       " -0.719402298508125,\n",
       " 0.230981061551682,\n",
       " -0.987858066699713,\n",
       " -0.907420423962009,\n",
       " -1.03835622793209,\n",
       " -0.404141785637214,\n",
       " -1.01469283299801,\n",
       " 1.38414601417405,\n",
       " -0.37848943001567,\n",
       " 1.49120502120525,\n",
       " 1.20200718203557,\n",
       " 1.18709001147505,\n",
       " 1.06613434246004,\n",
       " -0.704133362459909,\n",
       " -0.850730608839579,\n",
       " -0.622317102403973,\n",
       " 1.40918592371798,\n",
       " 1.1626866219921,\n",
       " -4.2364194365614,\n",
       " -0.386633363130421,\n",
       " 1.20778786048687,\n",
       " 1.22016350030541,\n",
       " 1.08430301328508,\n",
       " -2.97721370798955,\n",
       " -1.68598676561959,\n",
       " -0.779988244929168,\n",
       " 1.29594629775233,\n",
       " -0.895224141637294,\n",
       " 0.503301988400519,\n",
       " 1.20278275953826,\n",
       " 1.27013608973005,\n",
       " 1.19549440194806,\n",
       " -0.268621026179466,\n",
       " 1.02166509245772,\n",
       " 0.779819724468341,\n",
       " 1.0047604754428,\n",
       " -3.49598374713741,\n",
       " 1.50757798120502,\n",
       " -0.928193196138154,\n",
       " 1.0770785636955,\n",
       " -1.53127111807147,\n",
       " -0.343986366495033,\n",
       " 1.20544382671016,\n",
       " -0.703183200576619,\n",
       " -1.04636191482801,\n",
       " 1.13584591864479,\n",
       " 0.150998913806338,\n",
       " -1.0884582543774,\n",
       " -0.687099302570821,\n",
       " 1.13562921316007,\n",
       " 0.0192558115182034,\n",
       " 1.08584018898175,\n",
       " -1.24412629826194,\n",
       " 1.02139247472103,\n",
       " 1.5860925216242,\n",
       " -0.711928463741055,\n",
       " 1.10625081303158,\n",
       " -0.424665607097005,\n",
       " 1.2615973020388,\n",
       " 1.29540611366961,\n",
       " -0.692698818107399,\n",
       " -1.0286989631437,\n",
       " -0.456585658702141,\n",
       " -1.20943716011249,\n",
       " -1.1856978458655,\n",
       " 1.0203989643983,\n",
       " 1.2562165510808,\n",
       " 1.23917323388257,\n",
       " -0.409899592587,\n",
       " 1.24060011229358,\n",
       " 0.953918203343811,\n",
       " 1.25572940817485,\n",
       " 1.35444505657635,\n",
       " 1.14924640309594,\n",
       " -1.25447577889493,\n",
       " -0.837689399286165,\n",
       " 1.22089576726054,\n",
       " -0.439946497030056,\n",
       " 0.89405620757263,\n",
       " 1.16691882274459,\n",
       " -0.460445587001775,\n",
       " -1.89609925225788,\n",
       " -1.29983679037626,\n",
       " 1.15892316297527,\n",
       " -0.804275457310519,\n",
       " -0.90790897460877,\n",
       " -0.671983367555238,\n",
       " 0.450789665252323,\n",
       " 1.2131358392762,\n",
       " 0.0719363724226082,\n",
       " 1.24802214625491,\n",
       " -0.5172340289256,\n",
       " 0.199489410064961,\n",
       " -1.58192672515242,\n",
       " 1.22847756765483,\n",
       " -0.829932199150855,\n",
       " -2.15349086514568,\n",
       " -2.59549971893285,\n",
       " 1.29305346794745,\n",
       " -0.5530921031205,\n",
       " 1.09166591858634,\n",
       " -0.160626023844866,\n",
       " 1.23741280400293,\n",
       " 0.699598576350074,\n",
       " 1.13154130503628,\n",
       " 1.08521407006336,\n",
       " 0.638806340158883,\n",
       " -0.844953413022215,\n",
       " -0.814053958801928,\n",
       " -1.64500860387508,\n",
       " -0.918109391824049,\n",
       " -2.99079154928367,\n",
       " -0.544922216382672,\n",
       " 1.24375750419848,\n",
       " -0.960818700152674,\n",
       " -1.08613338221984,\n",
       " -0.355220827297771,\n",
       " -0.566531106380148,\n",
       " 0.238849265006397,\n",
       " -1.07565217464198,\n",
       " 1.14659355737236,\n",
       " -1.5812218278555,\n",
       " -0.376162266419157,\n",
       " -1.04306772577729,\n",
       " -0.68715782736797,\n",
       " -0.473730524697735,\n",
       " -2.68034780829134,\n",
       " -0.79199307524803,\n",
       " 1.16691290807975,\n",
       " -1.39777562374894,\n",
       " 1.12178508696274,\n",
       " -0.79274825180672,\n",
       " 1.17484581369606,\n",
       " 1.16112336057547,\n",
       " -0.36705818602522,\n",
       " -1.93205540371232,\n",
       " -0.424126020366472,\n",
       " -0.847311956395441,\n",
       " -0.856567135357546,\n",
       " 0.173200432066893,\n",
       " 0.823787878094626,\n",
       " 1.03107626224942,\n",
       " -1.86025769215298,\n",
       " -1.64724774569841,\n",
       " 1.33128233083719,\n",
       " -2.14916431209815,\n",
       " -0.75170995325103,\n",
       " -0.579830913552082,\n",
       " -0.599758603917243,\n",
       " -0.679292516376208,\n",
       " -0.850529094975521,\n",
       " 1.49157444507907,\n",
       " 1.28708679615122,\n",
       " -0.142561597113504,\n",
       " 1.25877773894767,\n",
       " -0.421335649528035,\n",
       " -0.565328982282065,\n",
       " -0.627616604495226,\n",
       " -0.753360379358863,\n",
       " -0.644711516651569,\n",
       " 0.548588124513562,\n",
       " -1.14610283642122,\n",
       " 1.06331713559004,\n",
       " -0.242497088483831,\n",
       " -0.856525101377417,\n",
       " 1.21689071243031,\n",
       " -0.693682516544372,\n",
       " 1.07220548109111,\n",
       " -3.13389129377515,\n",
       " 1.17916217258142,\n",
       " -0.469790195539992,\n",
       " -0.942972865599481,\n",
       " 1.21709239210288,\n",
       " 1.29415733715712,\n",
       " -0.528217504778877,\n",
       " -2.26465630091757,\n",
       " -0.735722770216833,\n",
       " -2.40026070028794,\n",
       " 1.31405429371976,\n",
       " -1.11378128928362,\n",
       " -0.38672597471122,\n",
       " 1.29889789186799,\n",
       " -0.634596978234792,\n",
       " 1.15723544645937,\n",
       " -0.839472782489739,\n",
       " 1.26376932818278,\n",
       " -1.06455861219702,\n",
       " 1.37749710266975,\n",
       " -1.10091965379217,\n",
       " 1.01705496852431,\n",
       " 1.04078123560653,\n",
       " -0.867554210779743,\n",
       " -0.347239992032347,\n",
       " -0.394363940095324,\n",
       " -0.597235764315286,\n",
       " -0.98747676408682,\n",
       " -2.44134792474947,\n",
       " 1.03907905531269,\n",
       " -1.448818005251,\n",
       " -2.75212410779928,\n",
       " 1.21546847819143,\n",
       " 1.03967393198286,\n",
       " -0.792724453343653,\n",
       " -1.12324258650538,\n",
       " 1.09337038677875,\n",
       " -0.928087752524131,\n",
       " 1.06062341140128,\n",
       " -0.517981178278665,\n",
       " 1.16435868086194,\n",
       " 0.174857319763123,\n",
       " 0.986168049742973,\n",
       " -0.932348620660508,\n",
       " -0.215043036434683,\n",
       " 0.716661837239264,\n",
       " -0.946412464324631,\n",
       " 1.19628756344344,\n",
       " 1.13002411772615,\n",
       " -0.789890213317183,\n",
       " 1.21972509323938,\n",
       " 0.0585009759619835,\n",
       " -0.239505139493611,\n",
       " -0.606284096155304,\n",
       " -2.00989275115573,\n",
       " -0.652954959919241,\n",
       " -0.41783625191838,\n",
       " -0.753769334274668,\n",
       " 1.25543928787263,\n",
       " 1.3557901906947,\n",
       " -0.860625553801289,\n",
       " -1.37771827091782,\n",
       " -2.69664072490359,\n",
       " 0.860544592611558,\n",
       " 0.0747375945306555,\n",
       " -1.03107926237188,\n",
       " 1.3353694727997,\n",
       " -0.280814640130213,\n",
       " -0.152397473632413,\n",
       " 1.16659175478988,\n",
       " -0.404840789478089,\n",
       " -2.14951704002277,\n",
       " 1.16327109252414,\n",
       " -0.259960889596589,\n",
       " -0.556245111037062,\n",
       " -0.65614726027589,\n",
       " 1.29594876595801,\n",
       " 1.2552580368309,\n",
       " 0.166862233883515,\n",
       " -0.63243792501966,\n",
       " -0.878340125644991,\n",
       " -1.04504206696021,\n",
       " 1.31471266913969,\n",
       " -0.639473905739308,\n",
       " -0.743470571088049,\n",
       " -0.641320431095315,\n",
       " 0.764614145085856,\n",
       " 1.13271169825445,\n",
       " -0.608941396004246,\n",
       " 1.11958886579381,\n",
       " -0.421664541051671,\n",
       " -0.795322272590168,\n",
       " -0.292211391567906,\n",
       " 1.08984625831441,\n",
       " -0.755011343838329,\n",
       " 1.35853544886351,\n",
       " -0.37841676509179,\n",
       " -2.00056742596757,\n",
       " 1.25593149521435,\n",
       " -0.690417296139236,\n",
       " 1.21726110498281,\n",
       " 1.44572888653447,\n",
       " -0.681072116349521,\n",
       " -2.08126385463261,\n",
       " -1.23353450286567,\n",
       " -1.3932651854425,\n",
       " -0.866655166687783,\n",
       " 1.08991295221448,\n",
       " -0.736061880982539,\n",
       " -0.696401906745576,\n",
       " 1.11427008772226,\n",
       " -1.0972779818864,\n",
       " -0.636010759624907,\n",
       " -1.05458435060349,\n",
       " -0.42004980312015,\n",
       " -1.73858230920278,\n",
       " -0.62352482847941,\n",
       " -0.403086552214478,\n",
       " 1.18372829311816,\n",
       " -1.03074650417539,\n",
       " 1.19270361118011,\n",
       " 1.06685141226338,\n",
       " -1.23342604202899,\n",
       " -2.56541747288904,\n",
       " 1.42246102324806,\n",
       " 0.0338542253831943,\n",
       " 1.10184434022317,\n",
       " -1.27419275865759,\n",
       " -0.371258065551865,\n",
       " -1.20335121324857,\n",
       " 0.601635839119152,\n",
       " -0.4746609960096,\n",
       " -0.444316305628711,\n",
       " 1.23853282760964,\n",
       " -2.61838614082819,\n",
       " 1.18948240706799,\n",
       " 0.270554106180448,\n",
       " -0.953029555248701,\n",
       " -0.84808655235177,\n",
       " 1.17358457603721,\n",
       " 1.13572095515975,\n",
       " -0.332048620578845,\n",
       " -0.439880214777499,\n",
       " 1.16977763108933,\n",
       " -0.988419770205218,\n",
       " 0.940965064702772,\n",
       " -0.689943486143964,\n",
       " -1.85901146818188,\n",
       " -0.604302881278666,\n",
       " -0.711796999469376,\n",
       " 1.21487241060553,\n",
       " -0.312911120833619,\n",
       " 0.186117640976478,\n",
       " -2.4227082266301,\n",
       " -0.203836963864141,\n",
       " 1.16635993693675,\n",
       " -0.461787766445311,\n",
       " -2.99062235532712,\n",
       " -2.3553362404209,\n",
       " -0.772941380101676,\n",
       " 1.0631954163549,\n",
       " -0.402057030445791,\n",
       " -1.06212907947623,\n",
       " 1.17836386174598,\n",
       " 1.25771919362,\n",
       " -0.572263018619647,\n",
       " -1.29684450383076,\n",
       " 1.21417039374976,\n",
       " 1.26703028847134,\n",
       " 1.15375804845906,\n",
       " 1.15345453322987,\n",
       " -0.185773992034697,\n",
       " -1.71853685640724,\n",
       " -0.572162905594779,\n",
       " 1.22287415624452,\n",
       " 1.68531381539456,\n",
       " 0.485684922315229,\n",
       " 1.24565836480361,\n",
       " -0.123154738586794,\n",
       " 1.38639222295391,\n",
       " -0.937904055589607,\n",
       " 1.28578408457805,\n",
       " -0.579711960472138,\n",
       " -0.795188115818995,\n",
       " 1.33695648356487,\n",
       " 0.142623031085026,\n",
       " -0.861028332465561,\n",
       " -3.55890898823261,\n",
       " -1.58249207672452,\n",
       " -1.10829234908383,\n",
       " -0.931571904607774,\n",
       " 1.05277816738228,\n",
       " -1.40269017872124,\n",
       " -0.197642794447037,\n",
       " -1.80779353321176,\n",
       " 0.888447712914739,\n",
       " -1.40683785330273,\n",
       " 1.03826115397494,\n",
       " -0.290389366910533,\n",
       " -4.13021888038491,\n",
       " -1.5087128091014,\n",
       " 1.16224084823649,\n",
       " 1.12591045117615,\n",
       " 0.965433630436707,\n",
       " -0.968413694567017,\n",
       " 0.953324387282208,\n",
       " 1.17611548682003,\n",
       " 1.21774239133753,\n",
       " 1.39541975016219,\n",
       " -4.70107431737014,\n",
       " 1.12102817333862,\n",
       " -1.10929718137564,\n",
       " -1.45382376333459,\n",
       " 1.32613193935532,\n",
       " -1.08475367170315,\n",
       " 1.25651995980944,\n",
       " 1.22194204736868,\n",
       " -1.38909785334835,\n",
       " 1.16265029471525,\n",
       " 1.14024720457692,\n",
       " -0.667663852049861,\n",
       " -1.15712322834598,\n",
       " 1.31581836095203,\n",
       " -0.986718937688705,\n",
       " -1.05893094169224,\n",
       " -5.27395223265643,\n",
       " -2.44059009835136,\n",
       " -0.282988727369893,\n",
       " -0.741691344063167,\n",
       " 1.09204609934923,\n",
       " 1.14185580013693,\n",
       " -1.5382750272919,\n",
       " 0.958429755945791,\n",
       " 0.962157484411841,\n",
       " -0.220314141180173,\n",
       " -3.08851051760036,\n",
       " -0.931199754215451,\n",
       " 1.16198050978969,\n",
       " 1.13488032526362,\n",
       " -2.22652113753774,\n",
       " -3.05552900421732,\n",
       " -2.8295224813551,\n",
       " -1.74094257417712,\n",
       " -0.916847929316958,\n",
       " 1.04200443152728,\n",
       " -0.748599131198015,\n",
       " -0.69137531044454,\n",
       " 1.20409116812636,\n",
       " 1.18956272107068,\n",
       " -0.246746120510218,\n",
       " -0.869610992513175,\n",
       " 1.25877773894767,\n",
       " 1.2958412913201,\n",
       " 1.2091474336684,\n",
       " -0.440731935143551,\n",
       " -1.77083129029365,\n",
       " -0.618515262846149,\n",
       " -1.0192639897003,\n",
       " -0.833568321319693,\n",
       " -0.878153023841696,\n",
       " -1.50301117044896,\n",
       " 1.23999385117508,\n",
       " -1.49411004259225,\n",
       " -1.78983472305473,\n",
       " 1.18432052513528,\n",
       " -0.338896419525446,\n",
       " -2.25941424816571,\n",
       " -3.01585764746315,\n",
       " -0.173458638177447,\n",
       " -0.907287251838834,\n",
       " 0.935576953244806,\n",
       " 1.2963540145627,\n",
       " 0.944905087562947,\n",
       " -0.115946207818814,\n",
       " -2.80143468201033,\n",
       " 1.2708346751146,\n",
       " 1.3947016226159,\n",
       " 1.15441765942069,\n",
       " -0.794271369075471,\n",
       " -0.402285992460897,\n",
       " 0.216343575258568,\n",
       " -0.995087876930812,\n",
       " -1.87414236290575,\n",
       " -0.274618751726335,\n",
       " -1.16018675107605,\n",
       " -0.998793422836606,\n",
       " -0.257283498950894,\n",
       " -1.613770172724,\n",
       " 1.23804465576309,\n",
       " -0.347674406356079,\n",
       " 1.23269177541969,\n",
       " -0.719064773736543,\n",
       " 1.31718053262761,\n",
       " -1.15709772412703,\n",
       " -0.883675575304952,\n",
       " -0.371028152944355,\n",
       " 1.42833236307767,\n",
       " -0.548000856606609,\n",
       " -0.443820817670056,\n",
       " -0.722725685249494,\n",
       " 1.19481237472078,\n",
       " -1.66552053193378,\n",
       " -0.66825713772702,\n",
       " 1.12087185113553,\n",
       " 0.658816030856571,\n",
       " 1.14369713907476,\n",
       " 1.11009760128006,\n",
       " 0.874197580120544,\n",
       " -1.16983031134796,\n",
       " 1.12433698967815,\n",
       " 1.11137397455072,\n",
       " 1.35005863903574,\n",
       " 1.14902481988994,\n",
       " -0.766197356212119,\n",
       " 1.23664620272336,\n",
       " -1.03973086051098,\n",
       " 1.25862318792543,\n",
       " 1.09726294465656,\n",
       " 1.33087573065664,\n",
       " -1.10347715032214,\n",
       " 1.14738017450537,\n",
       " 1.20903257188182,\n",
       " -1.47821010244069,\n",
       " -0.312138149054465,\n",
       " -1.13478622190812,\n",
       " -0.648437676021913,\n",
       " -0.180274985909642,\n",
       " -1.24685277185499,\n",
       " -0.590525678546258,\n",
       " 1.20584555346698,\n",
       " 1.22967592614748,\n",
       " 0.105486746498028,\n",
       " -0.560555867925103,\n",
       " 1.40802734147442,\n",
       " -0.431349344181742,\n",
       " 1.27718464888561,\n",
       " 1.34153371928366,\n",
       " -0.359578573430336,\n",
       " -0.586124743332143,\n",
       " 1.17474814289013,\n",
       " 1.17670542879412,\n",
       " 1.09082009254835,\n",
       " -1.28853462724849,\n",
       " -2.32174110764027,\n",
       " -0.417880767642227,\n",
       " 1.27989583199011,\n",
       " 0.325401009632497,\n",
       " -1.31346430915753,\n",
       " -0.511084431466201,\n",
       " 1.13092193902582,\n",
       " -3.56331118360203,\n",
       " -0.995277473663969,\n",
       " -1.13341331028893,\n",
       " 1.18977718924676,\n",
       " 1.16911745724664,\n",
       " -2.24056572191529,\n",
       " -0.534912930646031,\n",
       " -0.393673330891467,\n",
       " -0.484765915667271,\n",
       " -0.945643150917264,\n",
       " -0.837126354398089,\n",
       " 1.29090614868327,\n",
       " -3.45766642972427,\n",
       " 1.12691551061923,\n",
       " 1.22552063988694,\n",
       " 1.21517554116477,\n",
       " -0.733903778759373,\n",
       " -2.27143939148878,\n",
       " -2.64739717619895,\n",
       " -1.2473229594271,\n",
       " 1.4448368333663,\n",
       " -2.14553083721587,\n",
       " -0.308846893327012,\n",
       " 0.828410345527949,\n",
       " 1.18274228967645,\n",
       " 0.944362376346842,\n",
       " -1.46049422048959,\n",
       " -1.64497897994548,\n",
       " 1.30443715241464,\n",
       " -1.63821190706849,\n",
       " 1.00373589679205,\n",
       " -0.992814103888389,\n",
       " -0.936393716348959,\n",
       " 0.846466272374581,\n",
       " -3.5900235269187,\n",
       " 1.19949919158475,\n",
       " 1.2884485862491,\n",
       " 1.14914083666976,\n",
       " 1.09498678143194,\n",
       " 0.658270771820729,\n",
       " -1.61543872085496,\n",
       " 1.17861006037033,\n",
       " 1.28461191181462,\n",
       " -0.654892250964595,\n",
       " -2.10117149144242,\n",
       " -1.24816321038478,\n",
       " 1.37413406319621,\n",
       " -2.49743643182682,\n",
       " -1.37240647094664,\n",
       " 1.18374338681488,\n",
       " ...]"
      ]
     },
     "execution_count": 22,
     "metadata": {},
     "output_type": "execute_result"
    }
   ],
   "source": [
    "Class_0 = list(df[df['Class'] == 0]['V1'])\n",
    "Class_0"
   ]
  },
  {
   "cell_type": "code",
   "execution_count": 23,
   "id": "9decfbfa",
   "metadata": {},
   "outputs": [
    {
     "data": {
      "text/plain": [
       "[-2.3122265423263,\n",
       " -3.0435406239976,\n",
       " -2.30334956758553,\n",
       " -4.39797444171999,\n",
       " 1.23423504613468,\n",
       " 0.0084303648955825,\n",
       " 0.0267792264491516,\n",
       " 0.329594333318222,\n",
       " 0.316459000444982,\n",
       " 0.725645739819857,\n",
       " 0.702709900098753,\n",
       " 1.02387386852139,\n",
       " -1.58550536691994,\n",
       " -1.78322883722709,\n",
       " 0.857321003765953,\n",
       " -1.81328048476897,\n",
       " -0.25147096006823,\n",
       " 0.314596589729515,\n",
       " 0.447395553302475,\n",
       " -2.16992897559082,\n",
       " -1.86375555343732,\n",
       " -4.61721720415581,\n",
       " -2.6618021745564,\n",
       " -2.53585211738111,\n",
       " -3.49910753739178,\n",
       " -2.12548982597957,\n",
       " 0.378274504006009,\n",
       " -1.42662331260887,\n",
       " -3.89119195123086,\n",
       " 0.919136507326981,\n",
       " -4.69679522444504,\n",
       " -4.72771265581559,\n",
       " -4.06400473842815,\n",
       " -2.58961719821269,\n",
       " -2.88004235163471,\n",
       " -5.45436177939673,\n",
       " -4.15301449873357,\n",
       " -4.71052878230567,\n",
       " -4.64189285087538,\n",
       " 1.08837493830851,\n",
       " 1.18978435670385,\n",
       " -0.469326705102944,\n",
       " -5.26805322089363,\n",
       " -5.18787810836635,\n",
       " -12.2240206243564,\n",
       " -14.4744374924863,\n",
       " -12.3396031574122,\n",
       " -15.3988450085358,\n",
       " -14.1791651073631,\n",
       " -14.7246270119253,\n",
       " -15.2713618637585,\n",
       " -15.8191787207718,\n",
       " -16.3679230107968,\n",
       " -16.9174682656955,\n",
       " -17.4677100117887,\n",
       " -18.0185611876771,\n",
       " 1.19239598990768,\n",
       " -15.9036352020113,\n",
       " -16.5986647432584,\n",
       " -17.2751911945397,\n",
       " 1.12533553530785,\n",
       " -18.474867903441,\n",
       " -19.1798264145873,\n",
       " -19.8563223334433,\n",
       " -20.5327510764355,\n",
       " -21.2091195927913,\n",
       " -21.8854339051741,\n",
       " -22.5616992591298,\n",
       " -23.237920244511,\n",
       " -23.9141008948243,\n",
       " -24.5902447690465,\n",
       " -25.2663550194138,\n",
       " -25.9424344479142,\n",
       " 0.288028928428076,\n",
       " -27.1436784229495,\n",
       " -2.78724793061533,\n",
       " -27.84818067198,\n",
       " -28.5242675938406,\n",
       " -29.2003285905744,\n",
       " -29.8763655139763,\n",
       " -30.552380043581,\n",
       " 1.10280432542075,\n",
       " -1.06067628419757,\n",
       " 0.269614090485094,\n",
       " 0.92376442016477,\n",
       " -2.83098405592803,\n",
       " 0.287952771527529,\n",
       " -2.17913506011513,\n",
       " 0.539275913891047,\n",
       " 1.08123377540659,\n",
       " 0.333499490680108,\n",
       " -2.43923696855219,\n",
       " -0.860826892469905,\n",
       " -2.01900071938148,\n",
       " -3.21895201068387,\n",
       " -2.04448868873478,\n",
       " -2.85716975415491,\n",
       " -3.51902954497457,\n",
       " -3.89658259167336,\n",
       " -4.19407367570647,\n",
       " -4.84437152213983,\n",
       " -5.68501341827133,\n",
       " -7.92389070083426,\n",
       " -0.964567282813312,\n",
       " 1.08369268125484,\n",
       " 1.15937314510686,\n",
       " -4.44684654752268,\n",
       " -2.37753280180283,\n",
       " -2.14051149219032,\n",
       " -3.14025953779538,\n",
       " -2.74048250153169,\n",
       " -3.60054350412378,\n",
       " -4.59561704249556,\n",
       " -5.31417320646342,\n",
       " -5.93277795485543,\n",
       " -6.49808616880785,\n",
       " -7.33434102050082,\n",
       " -7.89688615307576,\n",
       " -8.42681446458936,\n",
       " -8.44028396323147,\n",
       " -9.00135134450649,\n",
       " -10.6457996485752,\n",
       " -10.2817840384715,\n",
       " -10.9407391093978,\n",
       " -11.6822148930584,\n",
       " -12.8357595817777,\n",
       " -12.9809425647533,\n",
       " -13.6807603221285,\n",
       " -13.8972058704019,\n",
       " -15.0209806030789,\n",
       " -14.9703456545046,\n",
       " -15.1404496225073,\n",
       " -16.5265065691231,\n",
       " -1.04800528916284,\n",
       " -18.2475132286673,\n",
       " -3.24018658731411,\n",
       " -2.14441147422114,\n",
       " -7.22273130585545,\n",
       " -19.1397328634111,\n",
       " -20.9069081014654,\n",
       " -4.56634156694274,\n",
       " -2.52401156950864,\n",
       " -3.84300903438536,\n",
       " -4.07597468486268,\n",
       " -4.42350762703846,\n",
       " -1.10964552515211,\n",
       " -3.36531852073793,\n",
       " -1.27813773524814,\n",
       " -4.61746102917986,\n",
       " -0.234922308660103,\n",
       " -1.47689343619361,\n",
       " 1.00199171536791,\n",
       " -1.51924353075082,\n",
       " -1.3094413460044,\n",
       " -1.34650881762975,\n",
       " -0.481531150954278,\n",
       " 1.17671575912859,\n",
       " -0.887286905534409,\n",
       " 0.364376991240021,\n",
       " -1.23280412810524,\n",
       " -2.79077103894771,\n",
       " 1.24384844934819,\n",
       " -2.13905055735992,\n",
       " -1.55421636788274,\n",
       " -8.46184470133154,\n",
       " -9.16978982388629,\n",
       " -9.84877583247984,\n",
       " -10.5273044341626,\n",
       " -11.2054613927303,\n",
       " -1.10184700698197,\n",
       " 1.03663855772541,\n",
       " 0.206075454303215,\n",
       " 1.29623080363477,\n",
       " 0.385108461103674,\n",
       " -1.73934096431325,\n",
       " -1.64927881611351,\n",
       " -2.04260819938332,\n",
       " -2.98646550822273,\n",
       " -5.75385192191905,\n",
       " -6.15960693036327,\n",
       " -7.34795494690262,\n",
       " -7.4279242314783,\n",
       " -6.00342167645829,\n",
       " -1.22966891678814,\n",
       " -7.90142134976781,\n",
       " -8.7620833940977,\n",
       " 0.0168278084833761,\n",
       " -0.0754834663888726,\n",
       " -1.27124419171437,\n",
       " -2.33565492855671,\n",
       " -10.3630494651588,\n",
       " -2.63059770314604,\n",
       " -0.264868683737295,\n",
       " 0.340390790889508,\n",
       " -0.443793956538852,\n",
       " -1.32278906321956,\n",
       " -0.451382569628168,\n",
       " -4.38422089880268,\n",
       " -2.3269223698887,\n",
       " -7.62692409246447,\n",
       " 0.326006629816884,\n",
       " -8.25711081724667,\n",
       " -3.21538175967748,\n",
       " -3.97521647515777,\n",
       " -2.7560071191969,\n",
       " -1.52230450950001,\n",
       " -1.64440309669641,\n",
       " -1.59945740179415,\n",
       " 1.14086473658976,\n",
       " -5.26775974325256,\n",
       " -5.34466537543542,\n",
       " -0.639191253440691,\n",
       " -6.13398694801985,\n",
       " -1.34804164426498,\n",
       " 1.07952397806913,\n",
       " 1.08043336974687,\n",
       " -8.7444146436792,\n",
       " 1.1939160689293,\n",
       " -2.92382666427262,\n",
       " 1.22761441351286,\n",
       " -3.5934760029271,\n",
       " 0.286302363835244,\n",
       " -1.82429505976067,\n",
       " -0.758468652663917,\n",
       " -1.73933378422429,\n",
       " -13.1926709562391,\n",
       " -13.1926709562391,\n",
       " -13.1926709562391,\n",
       " -13.1926709562391,\n",
       " -13.1926709562391,\n",
       " -13.1926709562391,\n",
       " 1.23260446981971,\n",
       " 1.14043132434726,\n",
       " -0.440095203221886,\n",
       " 0.315641749332386,\n",
       " -1.51251575792702,\n",
       " -2.27175453696818,\n",
       " 0.196706751987779,\n",
       " -3.17081841545902,\n",
       " -4.19873460983989,\n",
       " -1.11149523246612,\n",
       " -2.86979494599423,\n",
       " -1.54878809850026,\n",
       " -2.25053480921229,\n",
       " -0.430330205681344,\n",
       " -0.734303155037818,\n",
       " -2.86636370525907,\n",
       " -4.79366743133161,\n",
       " -5.14072311805277,\n",
       " -5.62246941906299,\n",
       " -6.61629292560656,\n",
       " 1.141572041228,\n",
       " 1.14020795371139,\n",
       " 1.08256623409747,\n",
       " -1.29835900258265,\n",
       " -0.715413746430203,\n",
       " 1.11855963468941,\n",
       " -1.41085190223088,\n",
       " -0.356326154090313,\n",
       " -7.13906006793885,\n",
       " -4.31247908052279,\n",
       " -0.114360703589856,\n",
       " -0.88525408859895,\n",
       " -1.46489654758402,\n",
       " -0.433222446537596,\n",
       " -0.937843305478391,\n",
       " -0.937843305478391,\n",
       " -1.92745281973369,\n",
       " -1.92745281973369,\n",
       " -4.86810843844627,\n",
       " -1.43086372778891,\n",
       " -3.00345942213401,\n",
       " -7.03030814445441,\n",
       " -7.03030814445441,\n",
       " -6.71340697159693,\n",
       " -6.71340697159693,\n",
       " -1.7567118508365,\n",
       " -2.20763091845218,\n",
       " -3.36526491864606,\n",
       " -3.58696386180132,\n",
       " -0.670238130057305,\n",
       " -0.41982017420894,\n",
       " -1.36029263351035,\n",
       " -3.85988078691481,\n",
       " 1.91782653091941,\n",
       " -2.40558049004183,\n",
       " -1.85506070184998,\n",
       " -3.95120850670532,\n",
       " 0.0073790751145725,\n",
       " 1.95485173775774,\n",
       " -5.10025566317088,\n",
       " -1.10847821852891,\n",
       " -1.66293711018596,\n",
       " -3.29112509261551,\n",
       " -3.82193880087939,\n",
       " -3.63280894927825,\n",
       " -3.7656801220835,\n",
       " -6.18585747765758,\n",
       " -6.18585747765758,\n",
       " -5.83919161928092,\n",
       " -5.83919161928092,\n",
       " -6.75050851563533,\n",
       " -10.8502815883108,\n",
       " -10.8502815883108,\n",
       " -10.6323749061596,\n",
       " -10.6323749061596,\n",
       " -13.0865194204794,\n",
       " -13.0865194204794,\n",
       " -12.8336314219519,\n",
       " -12.8336314219519,\n",
       " -10.0406314557065,\n",
       " -10.3008197578448,\n",
       " -11.3206331107815,\n",
       " -12.3810482122443,\n",
       " -11.3977267217611,\n",
       " -13.5120737201635,\n",
       " -26.4577446501446,\n",
       " -26.4577446501446,\n",
       " -26.4577446501446,\n",
       " -26.4577446501446,\n",
       " -15.1920640113629,\n",
       " 1.70785693746472,\n",
       " 0.842025258809961,\n",
       " -16.308650062507,\n",
       " -17.5189091261484,\n",
       " -1.95293262584861,\n",
       " -3.55217282034342,\n",
       " -3.7058559456413,\n",
       " -17.9762660516057,\n",
       " -17.5375916846763,\n",
       " -19.6418567335974,\n",
       " -22.3418888868038,\n",
       " -6.9852674861123,\n",
       " -23.9847466495794,\n",
       " -1.46531575579616,\n",
       " -25.825982149082,\n",
       " 0.91311613528992,\n",
       " -28.2550528932108,\n",
       " -1.02063166582361,\n",
       " -1.92959692675373,\n",
       " -2.29698749921502,\n",
       " -1.45687631770562,\n",
       " -28.7092292541793,\n",
       " -2.48836288474016,\n",
       " -2.87717642607719,\n",
       " -4.22122078925031,\n",
       " -5.60369027985602,\n",
       " -4.99175779387947,\n",
       " -5.55212217135236,\n",
       " -4.51734375344642,\n",
       " 0.745153216872909,\n",
       " -1.00061051985933,\n",
       " 1.93494645561548,\n",
       " -1.53281036094493,\n",
       " -2.45036662540267,\n",
       " -1.10103546371767,\n",
       " -1.55027271502021,\n",
       " 0.949240654782111,\n",
       " -5.96145725181683,\n",
       " -6.67721162487866,\n",
       " -2.62892199481027,\n",
       " -2.00345953080582,\n",
       " -1.07381997038354,\n",
       " -5.90492080575337,\n",
       " -0.769171691743673,\n",
       " 1.88961791435199,\n",
       " 0.224414466674279,\n",
       " -1.14155893716424,\n",
       " 0.909123838691231,\n",
       " -4.59944700208203,\n",
       " -5.31377384241729,\n",
       " -2.27247262312809,\n",
       " -1.83693980524096,\n",
       " 0.290155157802135,\n",
       " 1.17782379154942,\n",
       " 0.0546821522798935,\n",
       " 1.1839312092814,\n",
       " 0.753356012421118,\n",
       " -1.39620432643506,\n",
       " -2.4340041522657,\n",
       " 1.52207986461923,\n",
       " 0.469749517487831,\n",
       " -0.361427838541789,\n",
       " 0.432554461820961,\n",
       " -1.21268170063531,\n",
       " 1.17663267315551,\n",
       " 0.523819919016188,\n",
       " -0.0796525365521887,\n",
       " -0.967767136663499,\n",
       " 1.20493424160812,\n",
       " 0.232512476136408,\n",
       " 1.86210178942007,\n",
       " -3.15898973247843,\n",
       " 0.630578744212506,\n",
       " -1.29844323295373,\n",
       " -2.35634817171224,\n",
       " -4.66650010041278,\n",
       " -3.97593925787714,\n",
       " 0.467991939825149,\n",
       " -0.395582180999488,\n",
       " -2.92194437582996,\n",
       " 0.95102521866626,\n",
       " -4.86174665742506,\n",
       " -6.35233691096656,\n",
       " 0.1149650477972,\n",
       " 0.120301417641484,\n",
       " -1.16920341321234,\n",
       " -3.36776957405755,\n",
       " -1.17218291948653,\n",
       " -3.61385045502803,\n",
       " 0.457845399378466,\n",
       " 1.11833065981936,\n",
       " -2.7294819717688,\n",
       " -5.25643383358625,\n",
       " -2.00658175419571,\n",
       " -2.40520709191687,\n",
       " -6.42330645645221,\n",
       " 0.908636658181293,\n",
       " 1.89403628953056,\n",
       " -0.0676716213886392,\n",
       " -0.0997238993578782,\n",
       " -2.0642397521399,\n",
       " -1.61187733763361,\n",
       " -1.05383960928927,\n",
       " 1.26132423719507,\n",
       " 1.26132423719507,\n",
       " -2.21921860215056,\n",
       " 0.218810192243952,\n",
       " -1.12509160979577,\n",
       " -1.541678492331,\n",
       " 1.18489112271901,\n",
       " -1.37097577264543,\n",
       " -4.28058383167792,\n",
       " 0.754315925858731,\n",
       " 1.83319104756006,\n",
       " -2.15085504470997,\n",
       " -6.68283191622627,\n",
       " 1.85288909461877,\n",
       " -2.42353450165791,\n",
       " -3.81821371829341,\n",
       " -5.48803217118325,\n",
       " -6.61821088302128,\n",
       " -4.32060921481281,\n",
       " -3.57636177773708,\n",
       " -4.1243162505368,\n",
       " -4.67323076642011,\n",
       " -5.22296817637504,\n",
       " 0.0510754846328574,\n",
       " 1.32272425078878,\n",
       " -5.19249642644832,\n",
       " 1.14625926661879,\n",
       " -0.613695895305449,\n",
       " -0.549615438496227,\n",
       " -1.60021129907252,\n",
       " -0.0829834650336291,\n",
       " -7.38154698606367,\n",
       " 0.667713641374798,\n",
       " -0.679520574101316,\n",
       " -0.512348993642627,\n",
       " -1.067713272294,\n",
       " 0.711155481810016,\n",
       " 1.86822575153021,\n",
       " 1.87823003111341,\n",
       " -1.04006722316026,\n",
       " -1.92861326665902,\n",
       " -1.20139778318497,\n",
       " -0.129777610843349,\n",
       " 0.202402312000145,\n",
       " 1.17075621526687,\n",
       " -0.242244998983291,\n",
       " -5.97611932262173,\n",
       " -0.408110816961726,\n",
       " -2.3493399641893,\n",
       " -2.78386548658584,\n",
       " 0.567539266873172,\n",
       " -0.417339782403896,\n",
       " 2.13238602134104,\n",
       " -0.644277679025173,\n",
       " -0.848290216565114,\n",
       " -3.38760102859385,\n",
       " -5.23880773573245,\n",
       " -7.50392623748137,\n",
       " -5.76687873469586,\n",
       " -0.956390354534089,\n",
       " -2.02713542158538,\n",
       " 2.09190018751563,\n",
       " -1.37442438802593,\n",
       " -1.92788332105459,\n",
       " 1.37855899734127,\n",
       " -0.676142670593205,\n",
       " -3.11383160738512,\n",
       " 1.9919760961759]"
      ]
     },
     "execution_count": 23,
     "metadata": {},
     "output_type": "execute_result"
    }
   ],
   "source": [
    "Class_1 = list(df[df['Class'] == 1]['V1'])\n",
    "Class_1"
   ]
  },
  {
   "cell_type": "code",
   "execution_count": 24,
   "id": "58d50035",
   "metadata": {},
   "outputs": [
    {
     "data": {
      "text/plain": [
       "Text(0.5, 0, 'V1')"
      ]
     },
     "execution_count": 24,
     "metadata": {},
     "output_type": "execute_result"
    },
    {
     "data": {
      "image/png": "[encoded data removed]",
      "text/plain": [
       "<Figure size 432x288 with 1 Axes>"
      ]
     },
     "metadata": {},
     "output_type": "display_data"
    }
   ],
   "source": [
    "plt.hist([Class_0, Class_1], bins = 20, color = ['grey', 'red'], alpha = 0.5, \n",
    "         density = 1, label = ['Class 0', 'Class 1'])\n",
    "\n",
    "plt.legend()\n",
    "plt.xlabel('V1')\n"
   ]
  },
  {
   "cell_type": "markdown",
   "id": "9fab496c",
   "metadata": {},
   "source": [
    "# Задание на повторение материала"
   ]
  },
  {
   "cell_type": "markdown",
   "id": "40eaf4a6",
   "metadata": {},
   "source": [
    "#### 1) Создать одномерный массив Numpy под названием a из 12 последовательных целых чисел чисел от 12 до 24 невключительно"
   ]
  },
  {
   "cell_type": "code",
   "execution_count": 25,
   "id": "1a29bb8f",
   "metadata": {},
   "outputs": [
    {
     "data": {
      "text/plain": [
       "array([12, 13, 14, 15, 16, 17, 18, 19, 20, 21, 22, 23])"
      ]
     },
     "execution_count": 25,
     "metadata": {},
     "output_type": "execute_result"
    }
   ],
   "source": [
    "a = np.arange(12, 24)\n",
    "a"
   ]
  },
  {
   "cell_type": "markdown",
   "id": "700a966b",
   "metadata": {},
   "source": [
    "#### 2) Создать 5 двумерных массивов разной формы из массива a. Не использовать в аргументах метода reshape число -1."
   ]
  },
  {
   "cell_type": "code",
   "execution_count": 26,
   "id": "433fb54b",
   "metadata": {},
   "outputs": [
    {
     "data": {
      "text/plain": [
       "array([[12, 13, 14],\n",
       "       [15, 16, 17],\n",
       "       [18, 19, 20],\n",
       "       [21, 22, 23]])"
      ]
     },
     "execution_count": 26,
     "metadata": {},
     "output_type": "execute_result"
    }
   ],
   "source": [
    "b = a.reshape(4,3)\n",
    "b"
   ]
  },
  {
   "cell_type": "code",
   "execution_count": 27,
   "id": "48972720",
   "metadata": {},
   "outputs": [
    {
     "data": {
      "text/plain": [
       "array([[12, 13, 14, 15],\n",
       "       [16, 17, 18, 19],\n",
       "       [20, 21, 22, 23]])"
      ]
     },
     "execution_count": 27,
     "metadata": {},
     "output_type": "execute_result"
    }
   ],
   "source": [
    "c = a.reshape(3,4)\n",
    "c"
   ]
  },
  {
   "cell_type": "code",
   "execution_count": 28,
   "id": "892e38c1",
   "metadata": {},
   "outputs": [
    {
     "data": {
      "text/plain": [
       "array([[12, 13, 14, 15, 16, 17],\n",
       "       [18, 19, 20, 21, 22, 23]])"
      ]
     },
     "execution_count": 28,
     "metadata": {},
     "output_type": "execute_result"
    }
   ],
   "source": [
    "d = a.reshape(2,6)\n",
    "d"
   ]
  },
  {
   "cell_type": "code",
   "execution_count": 29,
   "id": "d9c53c29",
   "metadata": {},
   "outputs": [
    {
     "data": {
      "text/plain": [
       "array([[12, 13],\n",
       "       [14, 15],\n",
       "       [16, 17],\n",
       "       [18, 19],\n",
       "       [20, 21],\n",
       "       [22, 23]])"
      ]
     },
     "execution_count": 29,
     "metadata": {},
     "output_type": "execute_result"
    }
   ],
   "source": [
    "e = a.reshape(6,2)\n",
    "e"
   ]
  },
  {
   "cell_type": "code",
   "execution_count": 30,
   "id": "483b7e8a",
   "metadata": {},
   "outputs": [
    {
     "data": {
      "text/plain": [
       "array([[12],\n",
       "       [13],\n",
       "       [14],\n",
       "       [15],\n",
       "       [16],\n",
       "       [17],\n",
       "       [18],\n",
       "       [19],\n",
       "       [20],\n",
       "       [21],\n",
       "       [22],\n",
       "       [23]])"
      ]
     },
     "execution_count": 30,
     "metadata": {},
     "output_type": "execute_result"
    }
   ],
   "source": [
    "f = a.reshape(12,1)\n",
    "f"
   ]
  },
  {
   "cell_type": "markdown",
   "id": "7c82b78c",
   "metadata": {},
   "source": [
    "#### 3) Создать 5 двумерных массивов разной формы из массива a. Использовать в аргументах метода reshape число -1 (в трех примерах - для обозначения числа столбцов, в двух - для строк)."
   ]
  },
  {
   "cell_type": "code",
   "execution_count": 31,
   "id": "94ba87b6",
   "metadata": {},
   "outputs": [
    {
     "data": {
      "text/plain": [
       "array([[12, 13, 14],\n",
       "       [15, 16, 17],\n",
       "       [18, 19, 20],\n",
       "       [21, 22, 23]])"
      ]
     },
     "execution_count": 31,
     "metadata": {},
     "output_type": "execute_result"
    }
   ],
   "source": [
    "g = a.reshape(4,-1)\n",
    "g"
   ]
  },
  {
   "cell_type": "code",
   "execution_count": 32,
   "id": "318bb549",
   "metadata": {},
   "outputs": [
    {
     "data": {
      "text/plain": [
       "array([[12, 13, 14, 15],\n",
       "       [16, 17, 18, 19],\n",
       "       [20, 21, 22, 23]])"
      ]
     },
     "execution_count": 32,
     "metadata": {},
     "output_type": "execute_result"
    }
   ],
   "source": [
    "i = a.reshape(3,-1)\n",
    "i"
   ]
  },
  {
   "cell_type": "code",
   "execution_count": 33,
   "id": "191311fc",
   "metadata": {},
   "outputs": [
    {
     "data": {
      "text/plain": [
       "array([[12, 13],\n",
       "       [14, 15],\n",
       "       [16, 17],\n",
       "       [18, 19],\n",
       "       [20, 21],\n",
       "       [22, 23]])"
      ]
     },
     "execution_count": 33,
     "metadata": {},
     "output_type": "execute_result"
    }
   ],
   "source": [
    "k = a.reshape(6,-1)\n",
    "k"
   ]
  },
  {
   "cell_type": "code",
   "execution_count": 34,
   "id": "7da292b5",
   "metadata": {},
   "outputs": [
    {
     "data": {
      "text/plain": [
       "array([[12, 13, 14, 15],\n",
       "       [16, 17, 18, 19],\n",
       "       [20, 21, 22, 23]])"
      ]
     },
     "execution_count": 34,
     "metadata": {},
     "output_type": "execute_result"
    }
   ],
   "source": [
    "l = a.reshape(-1,4)\n",
    "l"
   ]
  },
  {
   "cell_type": "code",
   "execution_count": 35,
   "id": "d252413b",
   "metadata": {},
   "outputs": [
    {
     "data": {
      "text/plain": [
       "array([[12, 13, 14, 15, 16, 17],\n",
       "       [18, 19, 20, 21, 22, 23]])"
      ]
     },
     "execution_count": 35,
     "metadata": {},
     "output_type": "execute_result"
    }
   ],
   "source": [
    "m = a.reshape(-1, 6)\n",
    "m"
   ]
  },
  {
   "cell_type": "markdown",
   "id": "26fef335",
   "metadata": {},
   "source": [
    "#### 4) Можно ли массив Numpy, состоящий из одного столбца и 12 строк, назвать одномерным?"
   ]
  },
  {
   "cell_type": "markdown",
   "id": "ed9a7c49",
   "metadata": {},
   "source": [
    "нет, тк Одномерный массив — массив, с одним параметром, характеризующим количество элементов одномерного массива. Фактически одномерный массив — это массив, у которого может быть только одна строка, и n-е количество столбцов."
   ]
  },
  {
   "cell_type": "markdown",
   "id": "7212aa56",
   "metadata": {},
   "source": [
    "#### 5) Создать массив из 3 строк и 4 столбцов, состоящий из случайных чисел с плавающей запятой из нормального распределения со средним, равным 0 и среднеквадратичным отклонением, равным 1.0. Получить из этого массива одномерный массив с таким же атрибутом size, как и исходный массив.\n"
   ]
  },
  {
   "cell_type": "code",
   "execution_count": 36,
   "id": "08739c78",
   "metadata": {},
   "outputs": [
    {
     "data": {
      "text/plain": [
       "array([[-0.42652683,  0.51863054, -0.70460155,  0.51575955],\n",
       "       [-0.1401626 ,  0.41327662, -3.07570882,  1.73941522],\n",
       "       [-1.23007596, -0.07883206, -1.06263177, -0.74038521]])"
      ]
     },
     "execution_count": 36,
     "metadata": {},
     "output_type": "execute_result"
    }
   ],
   "source": [
    "sn = np.random.normal(loc = 0, scale = 1.0, size=(3,4))\n",
    "sn"
   ]
  },
  {
   "cell_type": "code",
   "execution_count": 37,
   "id": "f473719c",
   "metadata": {},
   "outputs": [
    {
     "data": {
      "text/plain": [
       "array([-0.42652683,  0.51863054, -0.70460155,  0.51575955, -0.1401626 ,\n",
       "        0.41327662, -3.07570882,  1.73941522, -1.23007596, -0.07883206,\n",
       "       -1.06263177, -0.74038521])"
      ]
     },
     "execution_count": 37,
     "metadata": {},
     "output_type": "execute_result"
    }
   ],
   "source": [
    "sr = sn.ravel()\n",
    "sr"
   ]
  },
  {
   "cell_type": "code",
   "execution_count": 38,
   "id": "fa440ee3",
   "metadata": {},
   "outputs": [
    {
     "data": {
      "text/plain": [
       "array([[-0.42652683,  0.51863054, -0.70460155,  0.51575955, -0.1401626 ,\n",
       "         0.41327662, -3.07570882,  1.73941522, -1.23007596, -0.07883206,\n",
       "        -1.06263177, -0.74038521]])"
      ]
     },
     "execution_count": 38,
     "metadata": {},
     "output_type": "execute_result"
    }
   ],
   "source": [
    "sr_v1 = sn.reshape(-1, 12)\n",
    "sr_v1"
   ]
  },
  {
   "cell_type": "markdown",
   "id": "83499b3e",
   "metadata": {},
   "source": [
    "#### 6) Создать массив a, состоящий из целых чисел, убывающих от 20 до 0 невключительно с интервалом 2.\n"
   ]
  },
  {
   "cell_type": "code",
   "execution_count": 39,
   "id": "07855413",
   "metadata": {},
   "outputs": [
    {
     "data": {
      "text/plain": [
       "array([20, 18, 16, 14, 12, 10,  8,  6,  4,  2])"
      ]
     },
     "execution_count": 39,
     "metadata": {},
     "output_type": "execute_result"
    }
   ],
   "source": [
    "a = np.arange(20, 0, -2)\n",
    "a"
   ]
  },
  {
   "cell_type": "markdown",
   "id": "23e84ff2",
   "metadata": {},
   "source": [
    "#### 7) Создать массив b, состоящий из 1 строки и 10 столбцов: целых чисел, убывающих от 20 до 1 невключительно с интервалом 2. В чем разница между массивами a и b?\n"
   ]
  },
  {
   "cell_type": "code",
   "execution_count": 40,
   "id": "13adc970",
   "metadata": {},
   "outputs": [
    {
     "data": {
      "text/plain": [
       "array([20, 18, 16, 14, 12, 10,  8,  6,  4,  2])"
      ]
     },
     "execution_count": 40,
     "metadata": {},
     "output_type": "execute_result"
    }
   ],
   "source": [
    "b = np.arange(start = 20, stop = 1, step = -2)\n",
    "b"
   ]
  },
  {
   "cell_type": "markdown",
   "id": "033a761d",
   "metadata": {},
   "source": [
    "массивы a и b одинаковые"
   ]
  },
  {
   "cell_type": "markdown",
   "id": "7fb726f4",
   "metadata": {},
   "source": [
    "#### 8) Вертикально соединить массивы a и b. a - двумерный массив из нулей, число строк которого больше 1 и на 1 меньше, чем число строк двумерного массива b, состоящего из единиц. Итоговый массив v должен иметь атрибут size, равный 10.\n"
   ]
  },
  {
   "cell_type": "code",
   "execution_count": 41,
   "id": "cb0092fe",
   "metadata": {},
   "outputs": [
    {
     "data": {
      "text/plain": [
       "array([[0., 0.],\n",
       "       [0., 0.]])"
      ]
     },
     "execution_count": 41,
     "metadata": {},
     "output_type": "execute_result"
    }
   ],
   "source": [
    "a = np.zeros((2,2))\n",
    "a"
   ]
  },
  {
   "cell_type": "code",
   "execution_count": 42,
   "id": "51154464",
   "metadata": {},
   "outputs": [
    {
     "data": {
      "text/plain": [
       "array([[1., 1.],\n",
       "       [1., 1.],\n",
       "       [1., 1.]])"
      ]
     },
     "execution_count": 42,
     "metadata": {},
     "output_type": "execute_result"
    }
   ],
   "source": [
    "b = np.zeros((3,2)) + 1\n",
    "b"
   ]
  },
  {
   "cell_type": "code",
   "execution_count": 43,
   "id": "e40ed46d",
   "metadata": {},
   "outputs": [
    {
     "data": {
      "text/plain": [
       "array([[0., 0.],\n",
       "       [0., 0.],\n",
       "       [1., 1.],\n",
       "       [1., 1.],\n",
       "       [1., 1.]])"
      ]
     },
     "execution_count": 43,
     "metadata": {},
     "output_type": "execute_result"
    }
   ],
   "source": [
    "v = np.concatenate((a, b))\n",
    "v"
   ]
  },
  {
   "cell_type": "code",
   "execution_count": 44,
   "id": "9af5bec3",
   "metadata": {},
   "outputs": [
    {
     "data": {
      "text/plain": [
       "10"
      ]
     },
     "execution_count": 44,
     "metadata": {},
     "output_type": "execute_result"
    }
   ],
   "source": [
    "v.size"
   ]
  },
  {
   "cell_type": "markdown",
   "id": "22a8b688",
   "metadata": {},
   "source": [
    "#### 9) Создать одномерный массив а, состоящий из последовательности целых чисел от 0 до 12. Поменять форму этого массива, чтобы получилась матрица A (двумерный массив Numpy), состоящая из 4 строк и 3 столбцов. Получить матрицу At путем транспонирования матрицы A. Получить матрицу B, умножив матрицу A на матрицу At с помощью матричного умножения. Какой размер имеет матрица B? Получится ли вычислить обратную матрицу для матрицы B и почему?\n"
   ]
  },
  {
   "cell_type": "code",
   "execution_count": 45,
   "id": "2232ba74",
   "metadata": {},
   "outputs": [
    {
     "data": {
      "text/plain": [
       "array([ 0,  1,  2,  3,  4,  5,  6,  7,  8,  9, 10, 11])"
      ]
     },
     "execution_count": 45,
     "metadata": {},
     "output_type": "execute_result"
    }
   ],
   "source": [
    "a = np.arange(0, 12)\n",
    "a"
   ]
  },
  {
   "cell_type": "code",
   "execution_count": 46,
   "id": "cc9a604e",
   "metadata": {},
   "outputs": [
    {
     "data": {
      "text/plain": [
       "array([[ 0,  1,  2],\n",
       "       [ 3,  4,  5],\n",
       "       [ 6,  7,  8],\n",
       "       [ 9, 10, 11]])"
      ]
     },
     "execution_count": 46,
     "metadata": {},
     "output_type": "execute_result"
    }
   ],
   "source": [
    "a = a.reshape(4,3)\n",
    "a"
   ]
  },
  {
   "cell_type": "code",
   "execution_count": 47,
   "id": "754664ad",
   "metadata": {},
   "outputs": [
    {
     "data": {
      "text/plain": [
       "array([[ 0,  3,  6,  9],\n",
       "       [ 1,  4,  7, 10],\n",
       "       [ 2,  5,  8, 11]])"
      ]
     },
     "execution_count": 47,
     "metadata": {},
     "output_type": "execute_result"
    }
   ],
   "source": [
    "At = a.transpose()\n",
    "At"
   ]
  },
  {
   "cell_type": "code",
   "execution_count": 48,
   "id": "935799d3",
   "metadata": {},
   "outputs": [
    {
     "data": {
      "text/plain": [
       "array([[  5,  14,  23,  32],\n",
       "       [ 14,  50,  86, 122],\n",
       "       [ 23,  86, 149, 212],\n",
       "       [ 32, 122, 212, 302]])"
      ]
     },
     "execution_count": 48,
     "metadata": {},
     "output_type": "execute_result"
    }
   ],
   "source": [
    "B = a.dot(At)\n",
    "B"
   ]
  },
  {
   "cell_type": "code",
   "execution_count": 49,
   "id": "a0b54113",
   "metadata": {},
   "outputs": [
    {
     "ename": "LinAlgError",
     "evalue": "Singular matrix",
     "output_type": "error",
     "traceback": [
      "\u001b[1;31m---------------------------------------------------------------------------\u001b[0m",
      "\u001b[1;31mLinAlgError\u001b[0m                               Traceback (most recent call last)",
      "\u001b[1;32m<ipython-input-49-72d370021216>\u001b[0m in \u001b[0;36m<module>\u001b[1;34m\u001b[0m\n\u001b[1;32m----> 1\u001b[1;33m \u001b[0mc\u001b[0m \u001b[1;33m=\u001b[0m \u001b[0mnp\u001b[0m\u001b[1;33m.\u001b[0m\u001b[0mlinalg\u001b[0m\u001b[1;33m.\u001b[0m\u001b[0minv\u001b[0m\u001b[1;33m(\u001b[0m\u001b[0mB\u001b[0m\u001b[1;33m)\u001b[0m\u001b[1;33m\u001b[0m\u001b[1;33m\u001b[0m\u001b[0m\n\u001b[0m\u001b[0;32m      2\u001b[0m \u001b[0mc\u001b[0m\u001b[1;33m\u001b[0m\u001b[1;33m\u001b[0m\u001b[0m\n",
      "\u001b[1;32m<__array_function__ internals>\u001b[0m in \u001b[0;36minv\u001b[1;34m(*args, **kwargs)\u001b[0m\n",
      "\u001b[1;32mC:\\ProgramData\\Anaconda3\\lib\\site-packages\\numpy\\linalg\\linalg.py\u001b[0m in \u001b[0;36minv\u001b[1;34m(a)\u001b[0m\n\u001b[0;32m    543\u001b[0m     \u001b[0msignature\u001b[0m \u001b[1;33m=\u001b[0m \u001b[1;34m'D->D'\u001b[0m \u001b[1;32mif\u001b[0m \u001b[0misComplexType\u001b[0m\u001b[1;33m(\u001b[0m\u001b[0mt\u001b[0m\u001b[1;33m)\u001b[0m \u001b[1;32melse\u001b[0m \u001b[1;34m'd->d'\u001b[0m\u001b[1;33m\u001b[0m\u001b[1;33m\u001b[0m\u001b[0m\n\u001b[0;32m    544\u001b[0m     \u001b[0mextobj\u001b[0m \u001b[1;33m=\u001b[0m \u001b[0mget_linalg_error_extobj\u001b[0m\u001b[1;33m(\u001b[0m\u001b[0m_raise_linalgerror_singular\u001b[0m\u001b[1;33m)\u001b[0m\u001b[1;33m\u001b[0m\u001b[1;33m\u001b[0m\u001b[0m\n\u001b[1;32m--> 545\u001b[1;33m     \u001b[0mainv\u001b[0m \u001b[1;33m=\u001b[0m \u001b[0m_umath_linalg\u001b[0m\u001b[1;33m.\u001b[0m\u001b[0minv\u001b[0m\u001b[1;33m(\u001b[0m\u001b[0ma\u001b[0m\u001b[1;33m,\u001b[0m \u001b[0msignature\u001b[0m\u001b[1;33m=\u001b[0m\u001b[0msignature\u001b[0m\u001b[1;33m,\u001b[0m \u001b[0mextobj\u001b[0m\u001b[1;33m=\u001b[0m\u001b[0mextobj\u001b[0m\u001b[1;33m)\u001b[0m\u001b[1;33m\u001b[0m\u001b[1;33m\u001b[0m\u001b[0m\n\u001b[0m\u001b[0;32m    546\u001b[0m     \u001b[1;32mreturn\u001b[0m \u001b[0mwrap\u001b[0m\u001b[1;33m(\u001b[0m\u001b[0mainv\u001b[0m\u001b[1;33m.\u001b[0m\u001b[0mastype\u001b[0m\u001b[1;33m(\u001b[0m\u001b[0mresult_t\u001b[0m\u001b[1;33m,\u001b[0m \u001b[0mcopy\u001b[0m\u001b[1;33m=\u001b[0m\u001b[1;32mFalse\u001b[0m\u001b[1;33m)\u001b[0m\u001b[1;33m)\u001b[0m\u001b[1;33m\u001b[0m\u001b[1;33m\u001b[0m\u001b[0m\n\u001b[0;32m    547\u001b[0m \u001b[1;33m\u001b[0m\u001b[0m\n",
      "\u001b[1;32mC:\\ProgramData\\Anaconda3\\lib\\site-packages\\numpy\\linalg\\linalg.py\u001b[0m in \u001b[0;36m_raise_linalgerror_singular\u001b[1;34m(err, flag)\u001b[0m\n\u001b[0;32m     86\u001b[0m \u001b[1;33m\u001b[0m\u001b[0m\n\u001b[0;32m     87\u001b[0m \u001b[1;32mdef\u001b[0m \u001b[0m_raise_linalgerror_singular\u001b[0m\u001b[1;33m(\u001b[0m\u001b[0merr\u001b[0m\u001b[1;33m,\u001b[0m \u001b[0mflag\u001b[0m\u001b[1;33m)\u001b[0m\u001b[1;33m:\u001b[0m\u001b[1;33m\u001b[0m\u001b[1;33m\u001b[0m\u001b[0m\n\u001b[1;32m---> 88\u001b[1;33m     \u001b[1;32mraise\u001b[0m \u001b[0mLinAlgError\u001b[0m\u001b[1;33m(\u001b[0m\u001b[1;34m\"Singular matrix\"\u001b[0m\u001b[1;33m)\u001b[0m\u001b[1;33m\u001b[0m\u001b[1;33m\u001b[0m\u001b[0m\n\u001b[0m\u001b[0;32m     89\u001b[0m \u001b[1;33m\u001b[0m\u001b[0m\n\u001b[0;32m     90\u001b[0m \u001b[1;32mdef\u001b[0m \u001b[0m_raise_linalgerror_nonposdef\u001b[0m\u001b[1;33m(\u001b[0m\u001b[0merr\u001b[0m\u001b[1;33m,\u001b[0m \u001b[0mflag\u001b[0m\u001b[1;33m)\u001b[0m\u001b[1;33m:\u001b[0m\u001b[1;33m\u001b[0m\u001b[1;33m\u001b[0m\u001b[0m\n",
      "\u001b[1;31mLinAlgError\u001b[0m: Singular matrix"
     ]
    }
   ],
   "source": [
    "c = np.linalg.inv(B)\n",
    "c"
   ]
  },
  {
   "cell_type": "code",
   "execution_count": 50,
   "id": "71f566db",
   "metadata": {},
   "outputs": [
    {
     "data": {
      "text/plain": [
       "0.0"
      ]
     },
     "execution_count": 50,
     "metadata": {},
     "output_type": "execute_result"
    }
   ],
   "source": [
    "np.linalg.det(B)"
   ]
  },
  {
   "cell_type": "markdown",
   "id": "b9904033",
   "metadata": {},
   "source": [
    "Если детерминант матрицы является нулем, то обратную к ней матрицу нельзя получить."
   ]
  },
  {
   "cell_type": "markdown",
   "id": "9c975e04",
   "metadata": {},
   "source": [
    "#### 10) Инициализируйте генератор случайных числе с помощью объекта seed, равного 42."
   ]
  },
  {
   "cell_type": "code",
   "execution_count": 56,
   "id": "b6232cd5",
   "metadata": {},
   "outputs": [],
   "source": [
    "np.random.seed(seed=42)"
   ]
  },
  {
   "cell_type": "code",
   "execution_count": 57,
   "id": "a58491de",
   "metadata": {},
   "outputs": [
    {
     "data": {
      "text/plain": [
       "array([0.37454012, 0.95071431, 0.73199394, 0.59865848, 0.15601864,\n",
       "       0.15599452, 0.05808361, 0.86617615, 0.60111501, 0.70807258,\n",
       "       0.02058449, 0.96990985, 0.83244264, 0.21233911, 0.18182497])"
      ]
     },
     "execution_count": 57,
     "metadata": {},
     "output_type": "execute_result"
    }
   ],
   "source": [
    "np.random.rand(15)"
   ]
  },
  {
   "cell_type": "markdown",
   "id": "9fe6887b",
   "metadata": {},
   "source": [
    "#### 11) Создайте одномерный массив c, составленный из последовательности 16-ти случайных равномерно распределенных целых чисел от 0 до 16 невключительно. \n"
   ]
  },
  {
   "cell_type": "code",
   "execution_count": 60,
   "id": "2595cd28",
   "metadata": {},
   "outputs": [
    {
     "data": {
      "text/plain": [
       "array([14, 13, 13, 14, 13,  2, 11,  6,  3, 15,  8,  2,  4,  2,  6,  4])"
      ]
     },
     "execution_count": 60,
     "metadata": {},
     "output_type": "execute_result"
    }
   ],
   "source": [
    "c = np.random.randint(0, 16, 16)\n",
    "c"
   ]
  },
  {
   "cell_type": "markdown",
   "id": "cf1a87a1",
   "metadata": {},
   "source": [
    "#### 12) Поменяйте его форму так, чтобы получилась квадратная матрица C. Получите матрицу D, поэлементно прибавив матрицу B из предыдущего вопроса к матрице C, умноженной на 10. Вычислите определитель, ранг и обратную матрицу D_inv для D.\n"
   ]
  },
  {
   "cell_type": "code",
   "execution_count": 62,
   "id": "bbf48212",
   "metadata": {},
   "outputs": [
    {
     "data": {
      "text/plain": [
       "array([[14, 13, 13, 14],\n",
       "       [13,  2, 11,  6],\n",
       "       [ 3, 15,  8,  2],\n",
       "       [ 4,  2,  6,  4]])"
      ]
     },
     "execution_count": 62,
     "metadata": {},
     "output_type": "execute_result"
    }
   ],
   "source": [
    "C = c.reshape(4,4)\n",
    "C"
   ]
  },
  {
   "cell_type": "code",
   "execution_count": 65,
   "id": "783e12db",
   "metadata": {},
   "outputs": [
    {
     "data": {
      "text/plain": [
       "array([[145, 144, 153, 172],\n",
       "       [144,  70, 196, 182],\n",
       "       [ 53, 236, 229, 232],\n",
       "       [ 72, 142, 272, 342]])"
      ]
     },
     "execution_count": 65,
     "metadata": {},
     "output_type": "execute_result"
    }
   ],
   "source": [
    "D = C * 10 + B\n",
    "D"
   ]
  },
  {
   "cell_type": "code",
   "execution_count": 67,
   "id": "a163c5c7",
   "metadata": {},
   "outputs": [
    {
     "data": {
      "text/plain": [
       "-305033600.00000024"
      ]
     },
     "execution_count": 67,
     "metadata": {},
     "output_type": "execute_result"
    }
   ],
   "source": [
    "det = np.linalg.det(D)\n",
    "det"
   ]
  },
  {
   "cell_type": "code",
   "execution_count": 70,
   "id": "c9abe499",
   "metadata": {},
   "outputs": [
    {
     "data": {
      "text/plain": [
       "4"
      ]
     },
     "execution_count": 70,
     "metadata": {},
     "output_type": "execute_result"
    }
   ],
   "source": [
    "rank = np.linalg.matrix_rank(D)\n",
    "rank"
   ]
  },
  {
   "cell_type": "code",
   "execution_count": 84,
   "id": "2b1af024",
   "metadata": {},
   "outputs": [
    {
     "data": {
      "text/plain": [
       "array([[ 0.00830361,  0.00108263, -0.00427205, -0.00185422],\n",
       "       [ 0.00503223, -0.00535049,  0.00433119, -0.00262161],\n",
       "       [-0.01657601,  0.01669796,  0.00927976, -0.00684462],\n",
       "       [ 0.00934572, -0.01128663, -0.00827935,  0.00984652]])"
      ]
     },
     "execution_count": 84,
     "metadata": {},
     "output_type": "execute_result"
    }
   ],
   "source": [
    "D_inv = np.linalg.inv(D)\n",
    "D_inv"
   ]
  },
  {
   "cell_type": "code",
   "execution_count": 86,
   "id": "20266c80",
   "metadata": {},
   "outputs": [
    {
     "data": {
      "text/plain": [
       "array([[ 1.00000000e+00,  2.49800181e-16,  2.22044605e-16,\n",
       "         3.33066907e-16],\n",
       "       [-1.11022302e-16,  1.00000000e+00, -2.22044605e-16,\n",
       "        -4.44089210e-16],\n",
       "       [ 2.22044605e-16, -3.88578059e-16,  1.00000000e+00,\n",
       "        -2.22044605e-16],\n",
       "       [ 0.00000000e+00,  2.22044605e-16,  1.11022302e-16,\n",
       "         1.00000000e+00]])"
      ]
     },
     "execution_count": 86,
     "metadata": {},
     "output_type": "execute_result"
    }
   ],
   "source": [
    "#### проверка\n",
    "check = D_inv.dot(D)\n",
    "check"
   ]
  },
  {
   "cell_type": "markdown",
   "id": "f21f76f5",
   "metadata": {},
   "source": [
    "#### Приравняйте к нулю отрицательные числа в матрице D_inv, а положительные - к единице. Убедитесь, что в матрице D_inv остались только нули и единицы. С помощью функции numpy.where, используя матрицу D_inv в качестве маски, а матрицы B и C - в качестве источников данных, получите матрицу E размером 4x4.  Элементы матрицы E, для которых соответствующий элемент матрицы D_inv равен 1, должны быть равны соответствующему элементу матрицы B, а элементы матрицы E, для которых соответствующий элемент матрицы D_inv равен 0, должны быть равны соответствующему элементу матрицы C.\n"
   ]
  },
  {
   "cell_type": "code",
   "execution_count": 88,
   "id": "292808bd",
   "metadata": {},
   "outputs": [
    {
     "data": {
      "text/plain": [
       "array([[1, 1, 0, 0],\n",
       "       [1, 0, 1, 0],\n",
       "       [0, 1, 1, 0],\n",
       "       [1, 0, 0, 1]])"
      ]
     },
     "execution_count": 88,
     "metadata": {},
     "output_type": "execute_result"
    }
   ],
   "source": [
    "D_inv = np.where(D_inv > 0, 1, 0)\n",
    "D_inv"
   ]
  },
  {
   "cell_type": "code",
   "execution_count": 118,
   "id": "a60046e4",
   "metadata": {},
   "outputs": [
    {
     "data": {
      "text/plain": [
       "array([[  5,  14,  23,  32],\n",
       "       [ 14,  50,  86, 122],\n",
       "       [ 23,  86, 149, 212],\n",
       "       [ 32, 122, 212, 302]])"
      ]
     },
     "execution_count": 118,
     "metadata": {},
     "output_type": "execute_result"
    }
   ],
   "source": [
    "B"
   ]
  },
  {
   "cell_type": "code",
   "execution_count": 119,
   "id": "851dd8bc",
   "metadata": {},
   "outputs": [
    {
     "data": {
      "text/plain": [
       "array([[14, 13, 13, 14],\n",
       "       [13,  2, 11,  6],\n",
       "       [ 3, 15,  8,  2],\n",
       "       [ 4,  2,  6,  4]])"
      ]
     },
     "execution_count": 119,
     "metadata": {},
     "output_type": "execute_result"
    }
   ],
   "source": [
    "C"
   ]
  },
  {
   "cell_type": "code",
   "execution_count": 120,
   "id": "8e546642",
   "metadata": {},
   "outputs": [
    {
     "data": {
      "text/plain": [
       "array([[1, 1, 0, 0],\n",
       "       [1, 0, 1, 0],\n",
       "       [0, 1, 1, 0],\n",
       "       [1, 0, 0, 1]])"
      ]
     },
     "execution_count": 120,
     "metadata": {},
     "output_type": "execute_result"
    }
   ],
   "source": [
    "D_inv"
   ]
  },
  {
   "cell_type": "code",
   "execution_count": 132,
   "id": "b2738b42",
   "metadata": {},
   "outputs": [
    {
     "data": {
      "text/plain": [
       "array([[0, 0, 0, 0],\n",
       "       [0, 0, 0, 0],\n",
       "       [0, 0, 0, 0],\n",
       "       [0, 0, 0, 0]])"
      ]
     },
     "execution_count": 132,
     "metadata": {},
     "output_type": "execute_result"
    }
   ],
   "source": [
    "E = np.array([[0,0,0,0],\n",
    "    [0,0,0,0],\n",
    "    [0, 0, 0, 0],\n",
    "    [0,0,0,0]])\n",
    "E"
   ]
  },
  {
   "cell_type": "code",
   "execution_count": 133,
   "id": "cfd1739c",
   "metadata": {},
   "outputs": [
    {
     "data": {
      "text/plain": [
       "array([[  5,  14,  13,  14],\n",
       "       [ 14,   2,  86,   6],\n",
       "       [  3,  86, 149,   2],\n",
       "       [ 32,   2,   6, 302]])"
      ]
     },
     "execution_count": 133,
     "metadata": {},
     "output_type": "execute_result"
    }
   ],
   "source": [
    "i = 0\n",
    "j = 0\n",
    "while i < 4:\n",
    "    while j < 4:\n",
    "        if D_inv[i,j] == 1:\n",
    "            E[i,j] = B[i,j]\n",
    "        else:\n",
    "            E[i,j] = C[i,j] \n",
    "        j +=1\n",
    "    i += 1\n",
    "    j = 0\n",
    "E   "
   ]
  },
  {
   "cell_type": "code",
   "execution_count": null,
   "id": "ec562a88",
   "metadata": {},
   "outputs": [],
   "source": []
  }
 ],
 "metadata": {
  "kernelspec": {
   "display_name": "Python 3",
   "language": "python",
   "name": "python3"
  },
  "language_info": {
   "codemirror_mode": {
    "name": "ipython",
    "version": 3
   },
   "file_extension": ".py",
   "mimetype": "text/x-python",
   "name": "python",
   "nbconvert_exporter": "python",
   "pygments_lexer": "ipython3",
   "version": "3.8.8"
  }
 },
 "nbformat": 4,
 "nbformat_minor": 5
}
